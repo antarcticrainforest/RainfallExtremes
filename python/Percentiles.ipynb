{
 "cells": [
  {
   "cell_type": "code",
   "execution_count": 65,
   "metadata": {},
   "outputs": [],
   "source": [
    "from netCDF4 import Dataset as nc, num2date\n",
    "import pandas as pd\n",
    "import numpy as np\n",
    "import os,sys\n",
    "from matplotlib import pyplot as plt"
   ]
  },
  {
   "cell_type": "code",
   "execution_count": 7,
   "metadata": {},
   "outputs": [],
   "source": [
    "filename = os.path.join(os.getenv('HOME'),'Data','Darwin','netcdf','CPOL_2.nc')\n",
    "f = nc(filename)\n",
    "g1h = f['1h']\n",
    "g3h = f['3h']\n",
    "g6h = f['6h']\n",
    "g24h = f['24h']\n",
    "varname = 'rain_rate'"
   ]
  },
  {
   "cell_type": "code",
   "execution_count": 4,
   "metadata": {},
   "outputs": [],
   "source": [
    "percs = np.append(np.linspace(0,99,100),[99.9,99.99,100])"
   ]
  },
  {
   "cell_type": "code",
   "execution_count": 54,
   "metadata": {},
   "outputs": [],
   "source": [
    "group = g1h\n",
    "name = 'P1h'"
   ]
  },
  {
   "cell_type": "code",
   "execution_count": 55,
   "metadata": {},
   "outputs": [
    {
     "name": "stdout",
     "output_type": "stream",
     "text": [
      "(56275, 117, 117)\n"
     ]
    }
   ],
   "source": [
    "present = group.variables['ispresent'][:]\n",
    "data = group.variables['rain_rate'][:]\n",
    "data = data[present> 75,...]\n",
    "print(data.shape)\n",
    "data = data[data>0.1]\n",
    "percvals = np.percentile(data,percs)"
   ]
  },
  {
   "cell_type": "code",
   "execution_count": 56,
   "metadata": {},
   "outputs": [],
   "source": [
    "S = pd.Series(percvals,index=percs)\n",
    "S.to_pickle(os.path.join(os.getenv('HOME'),name+'.pkl'))"
   ]
  },
  {
   "cell_type": "code",
   "execution_count": 58,
   "metadata": {},
   "outputs": [],
   "source": [
    "S1h = pd.read_pickle(os.path.join(os.getenv('HOME'),'P1h.pkl'))\n",
    "S3h = pd.read_pickle(os.path.join(os.getenv('HOME'),'P3h.pkl'))\n",
    "S6h = pd.read_pickle(os.path.join(os.getenv('HOME'),'P6h.pkl'))\n",
    "S24h = pd.read_pickle(os.path.join(os.getenv('HOME'),'P24h.pkl'))"
   ]
  },
  {
   "cell_type": "code",
   "execution_count": 63,
   "metadata": {},
   "outputs": [],
   "source": [
    "DF = pd.DataFrame({'01h_2.5km':S1h,'03h_2.5km':S3h,'06h_2.5km':S6h,'24h_2.5km':S24h})"
   ]
  },
  {
   "cell_type": "code",
   "execution_count": 70,
   "metadata": {},
   "outputs": [
    {
     "data": {
      "image/png": "[encoded data removed]",
      "text/plain": [
       "<matplotlib.figure.Figure at 0x7fe8f5652c18>"
      ]
     },
     "metadata": {},
     "output_type": "display_data"
    }
   ],
   "source": [
    "DF.plot()\n",
    "plt.show()"
   ]
  },
  {
   "cell_type": "code",
   "execution_count": 73,
   "metadata": {},
   "outputs": [],
   "source": [
    "DF.to_pickle(os.path.join(os.getenv('HOME'),'CPOL_Percentiles.pkl'))"
   ]
  },
  {
   "cell_type": "code",
   "execution_count": null,
   "metadata": {},
   "outputs": [],
   "source": []
  }
 ],
 "metadata": {
  "kernelspec": {
   "display_name": "Python 3",
   "language": "python",
   "name": "python3"
  },
  "language_info": {
   "codemirror_mode": {
    "name": "ipython",
    "version": 3
   },
   "file_extension": ".py",
   "mimetype": "text/x-python",
   "name": "python",
   "nbconvert_exporter": "python",
   "pygments_lexer": "ipython3",
   "version": "3.5.2"
  }
 },
 "nbformat": 4,
 "nbformat_minor": 2
}
