{
 "cells": [
  {
   "cell_type": "markdown",
   "metadata": {},
   "source": [
    "## CPOL Rainfall Radar Data and some Machine Learning Algorithms\n",
    "This notebook applies a bunch of Marchine Learning algorithms, like Support Vector Machine classification, to get some insights about the CPOL radar (extreme) rainfall dataset."
   ]
  },
  {
   "cell_type": "code",
   "execution_count": 194,
   "metadata": {},
   "outputs": [],
   "source": [
    "import pandas as pd\n",
    "import numpy as np\n",
    "from netCDF4 import Dataset as nc, num2date\n",
    "import os\n",
    "from matplotlib import pyplot as plt\n",
    "import plotly.plotly as py\n",
    "import plotly.graph_objs as go\n",
    "import seaborn as sns\n",
    "import cufflinks as cf\n",
    "cf.set_config_file(offline=False, world_readable=True, theme='ggplot')\n",
    "sns.set_style(\"whitegrid\")\n",
    "from DataFrame import *\n",
    "from datetime import datetime"
   ]
  },
  {
   "cell_type": "markdown",
   "metadata": {},
   "source": [
    "Define the path's where data is storde"
   ]
  },
  {
   "cell_type": "code",
   "execution_count": 252,
   "metadata": {},
   "outputs": [],
   "source": [
    "largeScaleFile = os.path.join(os.environ['HOME'], 'Data', 'Extremes', 'CPOL', 'CPOL-large-scale_forcing.pkl')\n",
    "largeScaleNc = os.path.join(os.environ['HOME'], 'Data', 'Extremes', 'CPOL', 'CPOL-large-scale_forcing.nc')\n",
    "CPOL = os.path.join(os.environ['HOME'], 'Data', 'Extremes', 'CPOL', 'CPOL_area_avg_precip.pkl')"
   ]
  },
  {
   "cell_type": "markdown",
   "metadata": {},
   "source": [
    "#### Load the datasets for CPOL rainfall and Large-scale forcing\n"
   ]
  },
  {
   "cell_type": "code",
   "execution_count": 290,
   "metadata": {},
   "outputs": [
    {
     "name": "stdout",
     "output_type": "stream",
     "text": [
      "g/kg\n"
     ]
    }
   ],
   "source": [
    "cpolFrame = pd.read_pickle(largeScaleFile)\n",
    "cpol10m = pd.read_pickle(CPOL)['all'] / 6.\n",
    "cpol1h = cpol10m.groupby(pd.TimeGrouper('1h')).sum()\n",
    "cpol6h = cpol1h.groupby(pd.TimeGrouper('6h')).mean()\n",
    "with nc(largeScaleNc) as ncf:\n",
    "    T = ncf.variables['T'][:]-273.15\n",
    "    r = ncf.variables['q'][:]/1000.\n",
    "    plev = ncf.variables['lev'][:]\n",
    "    times = pd.DatetimeIndex(num2date(ncf.variables['time'][:],ncf.variables['time'].units))\n",
    "    Ti = num2date(ncf.variables['time'][:],ncf.variables['time'].units)\n",
    "    prec = np.ma.masked_less(ncf.variables['prec_srf'][:],0).filled(np.nan)\n",
    "    print(ncf.variables['q'].units)"
   ]
  },
  {
   "cell_type": "markdown",
   "metadata": {},
   "source": [
    "Calculate saturation specific hum. ($E_s$) from temperature and specific hum. ($q$) from mixing ratio ($r$)"
   ]
  },
  {
   "cell_type": "code",
   "execution_count": 291,
   "metadata": {},
   "outputs": [],
   "source": [
    "a = 6.112 #hPa \n",
    "b, c = 17.62, 243.12 #C\n",
    "d = 0.622\n",
    "Es = a * np.exp(b * T / (c + T))\n",
    "q = d * r / (a + r) * 10\n",
    "qs= d * Es / (plev - 0.378 * Es)\n",
    "rs = pd.Series(q.sum(axis = -1) / qs.sum(axis = -1),index=times)\n",
    "cpolFrame['sat_frac_vert'] = rs\n",
    "cpolFrame['prec_srf'] = prec\n",
    "cpolFrame['CPOL_rain'] = cpol6h\n",
    "\n",
    "#cpolFrame['sat_frac_vert'] = pd.Series((q.sum(axis = -1) / qs.sum(axis = -1)), index=times)"
   ]
  },
  {
   "cell_type": "code",
   "execution_count": 292,
   "metadata": {},
   "outputs": [],
   "source": [
    "cpolFrame.to_pickle(largeScaleFile)"
   ]
  },
  {
   "cell_type": "markdown",
   "metadata": {},
   "source": [
    "Calculate saturation fraction rs = $int$ q / $int$ qs"
   ]
  },
  {
   "cell_type": "code",
   "execution_count": null,
   "metadata": {},
   "outputs": [],
   "source": []
  },
  {
   "cell_type": "markdown",
   "metadata": {},
   "source": [
    "#### Make 10 Min Cpol data 6 hourly"
   ]
  },
  {
   "cell_type": "code",
   "execution_count": null,
   "metadata": {},
   "outputs": [],
   "source": []
  },
  {
   "cell_type": "markdown",
   "metadata": {},
   "source": [
    "#### Create a dataframe with rainfall and some interesting atmos. variables"
   ]
  },
  {
   "cell_type": "code",
   "execution_count": 295,
   "metadata": {},
   "outputs": [],
   "source": [
    "\n",
    "data = cpolFrame"
   ]
  },
  {
   "cell_type": "code",
   "execution_count": null,
   "metadata": {},
   "outputs": [],
   "source": []
  },
  {
   "cell_type": "code",
   "execution_count": 297,
   "metadata": {},
   "outputs": [],
   "source": [
    "event = pd.Series(np.zeros(len(data)),index = data.index)\n",
    "event.loc[data['CPOL_rain'] > data['CPOL_rain'].quantile(90/100.)] = 1.\n",
    "#event.loc[data['CPOL_rain'] > data['CPOL_rain'].quantile(95/100.)] = 2.\n",
    "data['Event'] = event"
   ]
  },
  {
   "cell_type": "markdown",
   "metadata": {},
   "source": [
    "#### Pre-Process the data"
   ]
  },
  {
   "cell_type": "code",
   "execution_count": 298,
   "metadata": {},
   "outputs": [],
   "source": [
    "from sklearn.cross_validation import train_test_split\n",
    "from sklearn.discriminant_analysis import LinearDiscriminantAnalysis as LDA\n",
    "D = data[['omega-0615hPa','q-0865hPa','Event','PW']].dropna()\n",
    "exclude = ['lev', 'time', 'lh', 'lh_col', 'lwp', 'pw', 'rh_srf', 'sh','cld','cld_high',\n",
    "                     'cld_low','cld_mid','cld_thick','cld_top','cld_tot','evap_srf','lw_dn_srf',\n",
    "                     'lw_net_toa','lw_up_srf','p_srf_aver','p_srf_center','regime','prec_srf','cpol_rain']\n",
    "values = [v for v in data.keys() if not v.split('-')[0].lower() in exclude]\n",
    "values_c = ['omega-0715hPa', 'u-0865hPa','s-0715hPa', 's-0865hPa', 'q-0865hPa','dsdt_col','div-0865hPa','sat_frac_vert','Event']\n",
    "values = ['omega-0715hPa','sat_frac_vert','Event']\n",
    "D = data[values].dropna()\n",
    "y = D['Event'].values\n",
    "del D['Event']\n",
    "X = D.values\n",
    "lda = LDA(n_components=3)\n",
    "\n",
    "from sklearn.cross_validation import train_test_split\n",
    "# Splitting the dataset into the Training set and Test set\n",
    "X_train, X_test, y_train, y_test = train_test_split(X, y, test_size = 0.25, random_state = 0)\n",
    "# Feature Scaling\n",
    "from sklearn.preprocessing import StandardScaler\n",
    "sc = StandardScaler()\n",
    "X_train = sc.fit_transform(X_train)\n",
    "X_test = sc.transform(X_test)\n",
    "#X_train = lda.fit_transform(X_train, y_train)\n",
    "#X_test = lda.transform(X_test)\n",
    "#print(X_train.shape)"
   ]
  },
  {
   "cell_type": "code",
   "execution_count": 339,
   "metadata": {},
   "outputs": [
    {
     "data": {
      "text/html": [
       "<iframe id=\"igraph\" scrolling=\"no\" style=\"border:none;\" seamless=\"seamless\" src=\"https://plot.ly/~antarcticrainforest/71.embed\" height=\"525px\" width=\"100%\"></iframe>"
      ],
      "text/plain": [
       "<plotly.tools.PlotlyDisplay object>"
      ]
     },
     "execution_count": 339,
     "metadata": {},
     "output_type": "execute_result"
    }
   ],
   "source": [
    "idx = data['Event'] == 1\n",
    "idx2 = data['Event'] == 0\n",
    "var = ['omega-0715hPa','q-0865hPa']\n",
    "bla = data[var].dropna()\n",
    "scatter = [go.Scatter(\n",
    "    x=bla.loc[idx][var[0]].values,\n",
    "    y=bla.loc[idx][var[1]].values,\n",
    "    #z=data.loc[idx][var[2]].values,\n",
    "    mode='markers',\n",
    "    marker=dict(\n",
    "        size=4,\n",
    "        line=dict(\n",
    "            color='rgba(217, 217, 217, 0.14)',\n",
    "            width=0.5\n",
    "        ),\n",
    "        opacity=0.8\n",
    "    )\n",
    "),\n",
    "go.Scatter(\n",
    "    x=bla.loc[idx2][var[0]].values,\n",
    "    y=bla.loc[idx2][var[1]].values,\n",
    "    #z=data.loc[idx2][var[2]].values,\n",
    "    mode='markers',\n",
    "    marker=dict(\n",
    "        size=4,\n",
    "        line=dict(\n",
    "            color='red',\n",
    "            width=0.5\n",
    "        ),\n",
    "        opacity=0.8\n",
    "    )\n",
    "),\n",
    "          ]\n",
    "idx = data['Event'] == 1\n",
    "idx2 = data['Event'] == 0\n",
    "var = ['omega-0715hPa','q-0865hPa']\n",
    "bla = data[var].dropna()\n",
    "scatter = [go.Scatter(\n",
    "    x=bla.loc[idx][var[0]].values,\n",
    "    y=bla.loc[idx][var[1]].values,\n",
    "    #z=data.loc[idx][var[2]].values,\n",
    "    mode='markers', \n",
    "    name = '>=9th decile',\n",
    "    marker=dict(\n",
    "        size=4,\n",
    "        line=dict(\n",
    "            color='rgba(217, 217, 217, 0.14)',\n",
    "            width=0.5\n",
    "        ),\n",
    "        opacity=0.8\n",
    "    )\n",
    "),\n",
    "go.Scatter(\n",
    "    x=bla.loc[idx2][var[0]].values,\n",
    "    y=bla.loc[idx2][var[1]].values,\n",
    "    #z=data.loc[idx2][var[2]].values,\n",
    "    mode='markers',\n",
    "    name='<9th decile',\n",
    "    marker=dict(\n",
    "        size=4,\n",
    "        line=dict(\n",
    "            color='red',\n",
    "            width=0.5\n",
    "        ),\n",
    "        opacity=0.8\n",
    "    )\n",
    "),\n",
    "          ]\n",
    "layout = go.Layout(xaxis=dict(title=\"omega\"), yaxis=dict(title='Humidity'))\n",
    "py.iplot({'data': scatter, 'layout': layout}, filename='2d_scatter')"
   ]
  },
  {
   "cell_type": "code",
   "execution_count": 300,
   "metadata": {},
   "outputs": [],
   "source": [
    "###Apply Support Vector Machine Classification"
   ]
  },
  {
   "cell_type": "code",
   "execution_count": 301,
   "metadata": {},
   "outputs": [
    {
     "data": {
      "text/plain": [
       "SVC(C=1, cache_size=200, class_weight=None, coef0=0.0,\n",
       "  decision_function_shape='ovr', degree=7, gamma='auto', kernel='rbf',\n",
       "  max_iter=-1, probability=False, random_state=None, shrinking=True,\n",
       "  tol=0.001, verbose=False)"
      ]
     },
     "execution_count": 301,
     "metadata": {},
     "output_type": "execute_result"
    }
   ],
   "source": [
    "# Fitting Kernel SVM to the Training set\n",
    "from sklearn.svm import SVC\n",
    "from sklearn.linear_model import LogisticRegression as LR\n",
    "from sklearn.ensemble import RandomForestClassifier\n",
    "#classifier = RandomForestClassifier(n_estimators = 100, criterion = 'entropy', random_state = 0)\n",
    "classifier = SVC(C=1, kernel = 'rbf', degree = 7 ,gamma='auto')\n",
    "#classifier = LR(tol = 0.01)\n",
    "\n",
    "classifier.fit(X_train, y_train)"
   ]
  },
  {
   "cell_type": "code",
   "execution_count": 302,
   "metadata": {},
   "outputs": [
    {
     "data": {
      "text/plain": [
       "array([[748,   7],\n",
       "       [ 63,  23]])"
      ]
     },
     "execution_count": 302,
     "metadata": {},
     "output_type": "execute_result"
    }
   ],
   "source": [
    "# Predicting the Test set results\n",
    "y_pred = classifier.predict(X_test)\n",
    "# Making the Confusion Matrix\n",
    "from sklearn.metrics import confusion_matrix\n",
    "cm = confusion_matrix(y_test, y_pred)\n",
    "label = {1:'Yes', 0:'No'}\n",
    "cm"
   ]
  },
  {
   "cell_type": "code",
   "execution_count": null,
   "metadata": {},
   "outputs": [],
   "source": []
  },
  {
   "cell_type": "code",
   "execution_count": 303,
   "metadata": {},
   "outputs": [
    {
     "data": {
      "text/plain": [
       "<matplotlib.legend.Legend at 0x7fd4ea1f6d30>"
      ]
     },
     "execution_count": 303,
     "metadata": {},
     "output_type": "execute_result"
    },
    {
     "data": {
      "image/png": "[encoded data removed]",
      "text/plain": [
       "<matplotlib.figure.Figure at 0x7fd4ea1f6438>"
      ]
     },
     "metadata": {},
     "output_type": "display_data"
    }
   ],
   "source": [
    "# Visualising the Training set results\n",
    "from matplotlib.colors import ListedColormap\n",
    "X_set, y_set = X_train, y_train\n",
    "X1, X2 = np.meshgrid(np.arange(start = X_set[:, 0].min() - 1, stop = X_set[:, 0].max() + 1, step = 0.01),\n",
    "                     np.arange(start = X_set[:, 1].min() - 1, stop = X_set[:, 1].max() + 1, step = 0.01))\n",
    "plt.contourf(X1, X2, classifier.predict(np.array([X1.ravel(), X2.ravel()]).T).reshape(X1.shape),\n",
    "             alpha = 0.75, cmap = ListedColormap(('red', 'green')))\n",
    "plt.xlim(X1.min(), X1.max())\n",
    "plt.ylim(X2.min(), X2.max())\n",
    "\n",
    "for i, j in enumerate(np.unique(y_set)):\n",
    "    plt.scatter(X_set[y_set == j, 0], X_set[y_set == j, 1],\n",
    "                c = ListedColormap(('red', 'green'))(i), label = label[i] )\n",
    "plt.title('Kernel SVM (Training set)')\n",
    "plt.xlabel('Omega in 600 hPa')\n",
    "plt.ylabel('Humidity')# Visualising the Test set results\n",
    "plt.legend()\n",
    "\n",
    "\n",
    "\n"
   ]
  },
  {
   "cell_type": "code",
   "execution_count": 304,
   "metadata": {},
   "outputs": [
    {
     "data": {
      "text/plain": [
       "<matplotlib.legend.Legend at 0x7fd4ea292898>"
      ]
     },
     "execution_count": 304,
     "metadata": {},
     "output_type": "execute_result"
    },
    {
     "data": {
      "image/png": "[encoded data removed]",
      "text/plain": [
       "<matplotlib.figure.Figure at 0x7fd4ea2920f0>"
      ]
     },
     "metadata": {},
     "output_type": "display_data"
    }
   ],
   "source": [
    "# Visualising the Test set results\n",
    "from matplotlib.colors import ListedColormap\n",
    "X_set, y_set = X_test, y_test\n",
    "X1, X2 = np.meshgrid(np.arange(start = X_set[:, 0].min() - 1, stop = X_set[:, 0].max() + 1, step = 0.01),\n",
    "                     np.arange(start = X_set[:, 1].min() - 1, stop = X_set[:, 1].max() + 1, step = 0.01))\n",
    "plt.contourf(X1, X2, classifier.predict(np.array([X1.ravel(), X2.ravel()]).T).reshape(X1.shape),\n",
    "             alpha = 0.75, cmap = ListedColormap(('red', 'green')))\n",
    "plt.xlim(X1.min(), X1.max())\n",
    "plt.ylim(X2.min(), X2.max())\n",
    "for i, j in enumerate(np.unique(y_set)):\n",
    "    plt.scatter(X_set[y_set == j, 0], X_set[y_set == j, 1],\n",
    "                c = ListedColormap(('red', 'green'))(i), label = label[i])\n",
    "plt.title('Kernel SVM (Test set)')\n",
    "plt.ylabel('Humidity')\n",
    "plt.xlabel('$\\\\omega_{600}$')\n",
    "plt.legend()"
   ]
  },
  {
   "cell_type": "code",
   "execution_count": 305,
   "metadata": {},
   "outputs": [],
   "source": [
    "X_set, y_set = X_test, y_test\n",
    "X1, X2 = np.meshgrid(np.arange(start = X_set[:, 0].min() - 1, stop = X_set[:, 0].max() + 1, step = 0.01),\n",
    "                     np.arange(start = X_set[:, 1].min() - 1, stop = X_set[:, 1].max() + 1, step = 0.01))\n",
    "C = classifier.predict(np.array([X1.ravel(), X2.ravel()]).T).reshape(X1.shape)"
   ]
  },
  {
   "cell_type": "markdown",
   "metadata": {},
   "source": [
    "#### Now do some cluster analysis"
   ]
  },
  {
   "cell_type": "code",
   "execution_count": 306,
   "metadata": {},
   "outputs": [
    {
     "data": {
      "image/png": "[encoded data removed]",
      "text/plain": [
       "<matplotlib.figure.Figure at 0x7fd4ea28c128>"
      ]
     },
     "metadata": {},
     "output_type": "display_data"
    }
   ],
   "source": [
    "import scipy.cluster.hierarchy as sch\n",
    "D = data[values_c].dropna()\n",
    "E = D.loc[D['Event'] == 1]\n",
    "del E['Event']\n",
    "dendrogram = sch.dendrogram(sch.linkage(E.values, method = 'ward'))\n",
    "plt.title('Dendrogram')\n",
    "plt.xlabel('Event Types')\n",
    "plt.ylabel('Euclidean distances')\n",
    "plt.show()"
   ]
  },
  {
   "cell_type": "code",
   "execution_count": 342,
   "metadata": {},
   "outputs": [],
   "source": [
    "# Fitting Hierarchical Clustering to the dataset\n",
    "from sklearn.cluster import AgglomerativeClustering\n",
    "hc = AgglomerativeClustering(n_clusters = 2, affinity = 'euclidean', linkage = 'ward')\n",
    "y_hc = hc.fit_predict(E.values)"
   ]
  },
  {
   "cell_type": "code",
   "execution_count": null,
   "metadata": {},
   "outputs": [],
   "source": []
  },
  {
   "cell_type": "code",
   "execution_count": 343,
   "metadata": {},
   "outputs": [
    {
     "name": "stderr",
     "output_type": "stream",
     "text": [
      "/home/unimelb.edu.au/mbergemann/.local/lib/python3.5/site-packages/ipykernel_launcher.py:1: SettingWithCopyWarning:\n",
      "\n",
      "\n",
      "A value is trying to be set on a copy of a slice from a DataFrame.\n",
      "Try using .loc[row_indexer,col_indexer] = value instead\n",
      "\n",
      "See the caveats in the documentation: http://pandas.pydata.org/pandas-docs/stable/indexing.html#indexing-view-versus-copy\n",
      "\n"
     ]
    }
   ],
   "source": [
    "E['Cluster']=pd.Series(y_hc+1,index=E.index)"
   ]
  },
  {
   "cell_type": "code",
   "execution_count": null,
   "metadata": {},
   "outputs": [],
   "source": []
  },
  {
   "cell_type": "code",
   "execution_count": 345,
   "metadata": {},
   "outputs": [
    {
     "data": {
      "text/html": [
       "<iframe id=\"igraph\" scrolling=\"no\" style=\"border:none;\" seamless=\"seamless\" src=\"https://plot.ly/~antarcticrainforest/69.embed\" height=\"525px\" width=\"100%\"></iframe>"
      ],
      "text/plain": [
       "<plotly.tools.PlotlyDisplay object>"
      ]
     },
     "execution_count": 345,
     "metadata": {},
     "output_type": "execute_result"
    }
   ],
   "source": [
    "c1 = E['Cluster'] == 1\n",
    "c2 = E['Cluster'] == 2\n",
    "#c3 = E['Cluster'] == 3\n",
    "\n",
    "var = ['omega-0715hPa','u-0865hPa','dsdt_col']\n",
    "bla = E[var]\n",
    "scatter = [go.Scatter3d(\n",
    "    x=bla.loc[c1][var[0]].values,\n",
    "    y=bla.loc[c1][var[1]].values,\n",
    "    z=bla.loc[c1][var[2]].values,\n",
    "    name='Cluster #1',\n",
    "    mode='markers',\n",
    "    marker=dict(\n",
    "        size=4,\n",
    "        line=dict(\n",
    "            color='rgba(217, 217, 217, 0.14)',\n",
    "            width=0.5\n",
    "        ),\n",
    "        opacity=0.8\n",
    "    )\n",
    "),\n",
    "go.Scatter3d(\n",
    "    x=bla.loc[c2][var[0]].values,\n",
    "    y=bla.loc[c2][var[1]].values,\n",
    "    z=bla.loc[c2][var[2]].values,\n",
    "    name='Cluster #2',\n",
    "    mode='markers',\n",
    "    marker=dict(\n",
    "        size=4,\n",
    "        line=dict(\n",
    "            color='red',\n",
    "            width=0.5\n",
    "        ),\n",
    "        opacity=0.8\n",
    "    )\n",
    "),\n",
    "#go.Scatter3d(\n",
    "#    x=bla.loc[c3][var[0]].values,\n",
    "#    y=bla.loc[c3][var[1]].values,\n",
    "#    z=bla.loc[c3][var[2]].values,\n",
    "#    name='Cluster #3',\n",
    "#    mode='markers',\n",
    "#    marker=dict(\n",
    "#        size=4,\n",
    "#        line=dict(\n",
    "#            color='green',\n",
    "#            width=0.5\n",
    "#        ),\n",
    "#        opacity=0.8\n",
    "#    )\n",
    "#),\n",
    "           \n",
    "          ]\n",
    "layout = go.Layout(margin=dict(l=0,r=0,b=0,t=0),scene=go.Scene(xaxis=go.XAxis(title=\"omega\"),\n",
    "    yaxis=go.YAxis(title='U-Wind'),zaxis=go.ZAxis(title='d(s)/dt')))\n",
    "py.iplot({'data': scatter, 'layout': layout}, filename='3d_scatter-cluster')"
   ]
  },
  {
   "cell_type": "code",
   "execution_count": null,
   "metadata": {},
   "outputs": [],
   "source": [
    "# "
   ]
  }
 ],
 "metadata": {
  "kernelspec": {
   "display_name": "Python 3",
   "language": "python",
   "name": "python3"
  },
  "language_info": {
   "codemirror_mode": {
    "name": "ipython",
    "version": 3
   },
   "file_extension": ".py",
   "mimetype": "text/x-python",
   "name": "python",
   "nbconvert_exporter": "python",
   "pygments_lexer": "ipython3",
   "version": "3.5.2"
  }
 },
 "nbformat": 4,
 "nbformat_minor": 2
}
