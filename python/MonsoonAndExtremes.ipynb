{
 "cells": [
  {
   "cell_type": "markdown",
   "metadata": {},
   "source": [
    "#### This python notebook looks at the relationship between stages of the Monsoon (burst) and Extreme Events"
   ]
  },
  {
   "cell_type": "code",
   "execution_count": 18,
   "metadata": {},
   "outputs": [],
   "source": [
    "import pandas as pd\n",
    "import numpy as np\n",
    "import xarray as xr\n",
    "from netCDF4 import Dataset as nc, num2date, MFDataset as mc\n",
    "import os\n",
    "from matplotlib import pyplot as plt\n",
    "import plotly.plotly as py\n",
    "import plotly.graph_objs as go\n",
    "import seaborn as sns\n",
    "import cufflinks as cf\n",
    "cf.set_config_file(offline=False, world_readable=True, theme='ggplot')\n",
    "sns.set_style(\"whitegrid\")\n",
    "from DataFrame import *\n",
    "from datetime import datetime"
   ]
  },
  {
   "cell_type": "markdown",
   "metadata": {},
   "source": [
    "Define the path's where data is storde"
   ]
  },
  {
   "cell_type": "code",
   "execution_count": 2,
   "metadata": {},
   "outputs": [],
   "source": [
    "largeScaleFile = os.path.join(os.environ['HOME'], 'Data', 'Extremes', 'CPOL', 'CPOL-large-scale_forcing.pkl')\n",
    "largeScaleNc = os.path.join(os.environ['HOME'], 'Data', 'Extremes', 'CPOL', 'CPOL-large-scale_forcing.nc')\n",
    "CPOL = os.path.join(os.environ['HOME'], 'Data', 'Extremes', 'CPOL', 'CPOL_area_avg_precip.pkl')\n",
    "BurstF = os.path.join(os.environ['HOME'], 'Data', 'Extremes', 'CPOL', 'CPOL_burst.pkl')"
   ]
  },
  {
   "cell_type": "code",
   "execution_count": 3,
   "metadata": {},
   "outputs": [],
   "source": [
    "cpolFrame = pd.read_pickle(largeScaleFile)\n",
    "burst10m = pd.read_pickle(BurstF)\n",
    "cpol10m = pd.read_pickle(CPOL)['all'] / 6.\n",
    "cpol1h = cpol10m.groupby(pd.TimeGrouper('1h')).sum()\n",
    "cpol6h = cpol1h.groupby(pd.TimeGrouper('6h')).mean()\n",
    "burst6h = burst10m.groupby(pd.TimeGrouper('6h')).mean()"
   ]
  },
  {
   "cell_type": "code",
   "execution_count": 4,
   "metadata": {},
   "outputs": [],
   "source": [
    "idx = burst6h.burst[burst6h.burst == 2].index"
   ]
  },
  {
   "cell_type": "code",
   "execution_count": 5,
   "metadata": {},
   "outputs": [],
   "source": [
    "event = pd.Series(np.zeros(len(cpolFrame)),index = cpolFrame.index)\n",
    "event.loc[cpolFrame['CPOL_rain'] > cpolFrame['CPOL_rain'].quantile(90/100.)] = 1.\n",
    "extreme = cpol6h.quantile(90/100.)\n",
    "#event.loc[data['CPOL_rain'] > data['CPOL_rain'].quantile(95/100.)] = 2.\n",
    "cpolFrame['Event'] = event"
   ]
  },
  {
   "cell_type": "code",
   "execution_count": 6,
   "metadata": {},
   "outputs": [],
   "source": [
    "priorBurst = cpol6h[idx].dropna()\n",
    "burstPeriod = burst6h.dropna().index\n",
    "normalExtremes = cpol6h[burstPeriod].loc[cpol6h[burstPeriod]>= extreme]\n",
    "burstExtremes = priorBurst.loc[priorBurst >= extreme]"
   ]
  },
  {
   "cell_type": "code",
   "execution_count": 9,
   "metadata": {},
   "outputs": [
    {
     "data": {
      "text/plain": [
       "12.844036697247708"
      ]
     },
     "execution_count": 9,
     "metadata": {},
     "output_type": "execute_result"
    }
   ],
   "source": [
    "len(burstExtremes)/len(normalExtremes) * 100."
   ]
  },
  {
   "cell_type": "code",
   "execution_count": 7,
   "metadata": {},
   "outputs": [
    {
     "data": {
      "text/plain": [
       "8.851674641148326"
      ]
     },
     "execution_count": 7,
     "metadata": {},
     "output_type": "execute_result"
    }
   ],
   "source": [
    "len(priorBurst)/float(len(burstPeriod)) * 100."
   ]
  },
  {
   "cell_type": "code",
   "execution_count": 87,
   "metadata": {},
   "outputs": [
    {
     "data": {
      "text/plain": [
       "32512"
      ]
     },
     "execution_count": 87,
     "metadata": {},
     "output_type": "execute_result"
    }
   ],
   "source": [
    "dataDir = os.path.join(os.getenv('HOME'),'Data','Darwin','netcdf')\n",
    "files = []\n",
    "for d in cpol10m.index.date:\n",
    "    if d.month >= 6:\n",
    "        D = '%04i%04i' %(d.year,d.year+1)\n",
    "    else:\n",
    "        D = '%04i%04i' %(d.year-1,d.year)\n",
    "    files.append(os.path.join(dataDir,D,d.strftime('CPOL_RADAR_ESTIMATED_RAIN_RATE_%Y%m%d_level2.nc')))\n",
    "os.system('cdo mergetime %s %s' %(' '.join(files), os.path.join(dataDir,'CPOL-rain.nc')))\n",
    "    "
   ]
  },
  {
   "cell_type": "code",
   "execution_count": 12,
   "metadata": {},
   "outputs": [],
   "source": [
    "dates = normalExtremes.index.date"
   ]
  },
  {
   "cell_type": "code",
   "execution_count": 14,
   "metadata": {},
   "outputs": [
    {
     "data": {
      "text/plain": [
       "109"
      ]
     },
     "execution_count": 14,
     "metadata": {},
     "output_type": "execute_result"
    }
   ],
   "source": [
    "len(dates)"
   ]
  },
  {
   "cell_type": "code",
   "execution_count": 16,
   "metadata": {},
   "outputs": [],
   "source": [
    "dataDir = os.path.join(os.getenv('HOME'),'Data','Darwin','netcdf')\n",
    "files = []\n",
    "for d in dates:\n",
    "    if d.month >= 6:\n",
    "        D = '%04i%04i' %(d.year,d.year+1)\n",
    "    else:\n",
    "        D = '%04i%04i' %(d.year-1,d.year)\n",
    "    files.append(os.path.join(dataDir,D,d.strftime('CPOL_RADAR_ESTIMATED_RAIN_RATE_%Y%m%d_level2.nc')))"
   ]
  },
  {
   "cell_type": "code",
   "execution_count": 25,
   "metadata": {},
   "outputs": [
    {
     "data": {
      "text/plain": [
       "0"
      ]
     },
     "execution_count": 25,
     "metadata": {},
     "output_type": "execute_result"
    }
   ],
   "source": [
    "os.system('cdo mergetime %s %s' %(' '.join(files), os.path.join(dataDir,'ExtremesP90.rain')))"
   ]
  },
  {
   "cell_type": "code",
   "execution_count": 58,
   "metadata": {},
   "outputs": [],
   "source": [
    "f = nc(os.path.join(dataDir,'ExtremesP90.rain'))\n",
    "rr = np.ma.masked_invalid(f.variables['radar_estimated_rain_rate'][:])"
   ]
  },
  {
   "cell_type": "code",
   "execution_count": 59,
   "metadata": {},
   "outputs": [],
   "source": [
    "rr = rr/6."
   ]
  },
  {
   "cell_type": "code",
   "execution_count": 60,
   "metadata": {},
   "outputs": [],
   "source": [
    "lon, lat = f.variables['longitude'][0,:], f.variables['latitude'][:,0]\n",
    "time = pd.DatetimeIndex(num2date(f.variables['time'][:],f.variables['time'].units))"
   ]
  },
  {
   "cell_type": "code",
   "execution_count": 61,
   "metadata": {},
   "outputs": [],
   "source": [
    "RRdata = xr.DataArray(rr, coords={'time':time,'lon': lon,'lat':lat}, dims=('time','lat','lon'))"
   ]
  },
  {
   "cell_type": "code",
   "execution_count": 85,
   "metadata": {},
   "outputs": [],
   "source": [
    "RR6H = RRdata.resample(time='3H').mean('time')"
   ]
  },
  {
   "cell_type": "code",
   "execution_count": 86,
   "metadata": {},
   "outputs": [
    {
     "data": {
      "text/plain": [
       "<xarray.DataArray 'time' (time: 34896)>\n",
       "array(['1999-01-16T00:00:00.000000000', '1999-01-16T03:00:00.000000000',\n",
       "       '1999-01-16T06:00:00.000000000', ..., '2010-12-25T15:00:00.000000000',\n",
       "       '2010-12-25T18:00:00.000000000', '2010-12-25T21:00:00.000000000'],\n",
       "      dtype='datetime64[ns]')\n",
       "Coordinates:\n",
       "  * time     (time) datetime64[ns] 1999-01-16 1999-01-16T03:00:00 ..."
      ]
     },
     "execution_count": 86,
     "metadata": {},
     "output_type": "execute_result"
    }
   ],
   "source": [
    "RR6H['time']"
   ]
  },
  {
   "cell_type": "code",
   "execution_count": null,
   "metadata": {},
   "outputs": [],
   "source": []
  }
 ],
 "metadata": {
  "kernelspec": {
   "display_name": "Python 3",
   "language": "python",
   "name": "python3"
  },
  "language_info": {
   "codemirror_mode": {
    "name": "ipython",
    "version": 3
   },
   "file_extension": ".py",
   "mimetype": "text/x-python",
   "name": "python",
   "nbconvert_exporter": "python",
   "pygments_lexer": "ipython3",
   "version": "3.5.2"
  }
 },
 "nbformat": 4,
 "nbformat_minor": 2
}
