{
 "cells": [
  {
   "cell_type": "markdown",
   "metadata": {},
   "source": [
    "## Notbook that plots a few (fancy) maps in "
   ]
  },
  {
   "cell_type": "code",
   "execution_count": 1,
   "metadata": {},
   "outputs": [],
   "source": [
    "from netCDF4 import Dataset as nc, num2date\n",
    "import numpy as np\n",
    "import pandas as pd\n",
    "import sys, os\n",
    "import matplotlib\n",
    "from matplotlib import pyplot as plt, cm\n",
    "from mpl_toolkits.basemap import Basemap, cm as cm_b\n",
    "from mpl_toolkits.axes_grid1.inset_locator import zoomed_inset_axes\n",
    "from mpl_toolkits.axes_grid1.inset_locator import mark_inset"
   ]
  },
  {
   "cell_type": "markdown",
   "metadata": {},
   "source": [
    "Define all filenames"
   ]
  },
  {
   "cell_type": "code",
   "execution_count": 2,
   "metadata": {},
   "outputs": [],
   "source": [
    "cpolF = os.path.join(os.environ['HOME'], 'Data', 'Extremes', 'CPOL', 'CPOL_1998-2017.nc')\n",
    "cmorphF = os.path.join(os.environ['HOME'], 'Data', 'Darwin', 'netcdf', 'Cmorph_1999-2003.nc')\n",
    "outDir = os.path.join(os.environ['HOME'], 'Data','Extremes' ,'CPOL', 'Plot')\n",
    "DFFile = os.path.join(os.environ['HOME'],'Data','Extremes','CPOL','CPOL_MonsoonPhases-dates.hdf5')"
   ]
  },
  {
   "cell_type": "markdown",
   "metadata": {},
   "source": [
    "Define the dates for plotting"
   ]
  },
  {
   "cell_type": "code",
   "execution_count": 4,
   "metadata": {},
   "outputs": [
    {
     "data": {
      "text/plain": [
       "0     1998-12-06\n",
       "1     1998-12-12\n",
       "2     1998-12-14\n",
       "3     1998-12-22\n",
       "4     1998-12-30\n",
       "5     1999-01-04\n",
       "6     1999-01-14\n",
       "7     1999-02-02\n",
       "8     1999-02-12\n",
       "9     1999-02-15\n",
       "10    1999-03-09\n",
       "11    1999-03-28\n",
       "12    1999-04-28\n",
       "13    1999-11-04\n",
       "14    1999-11-18\n",
       "15    1999-12-18\n",
       "16    2000-01-14\n",
       "17    2000-02-08\n",
       "18    2000-03-03\n",
       "19    2000-03-13\n",
       "20    2001-11-07\n",
       "21    2001-11-27\n",
       "22    2001-12-09\n",
       "23    2002-01-03\n",
       "24    2002-01-10\n",
       "25    2002-02-05\n",
       "26    2002-02-10\n",
       "27    2002-02-15\n",
       "28    2002-11-05\n",
       "29    2002-11-15\n",
       "         ...    \n",
       "41    2004-02-23\n",
       "42    2004-03-16\n",
       "43    2004-11-08\n",
       "44    2004-11-22\n",
       "45    2004-12-09\n",
       "46    2004-12-24\n",
       "47    2005-01-22\n",
       "48    2005-02-03\n",
       "49    2005-03-16\n",
       "50    2005-11-10\n",
       "51    2005-11-18\n",
       "52    2005-12-08\n",
       "53    2005-12-26\n",
       "54    2006-01-12\n",
       "55    2006-03-06\n",
       "56    2006-04-18\n",
       "57    2006-10-26\n",
       "58    2006-11-02\n",
       "59    2006-12-07\n",
       "60    2007-01-08\n",
       "61    2007-01-20\n",
       "62    2007-01-28\n",
       "63    2007-02-28\n",
       "64    2007-03-09\n",
       "65    2010-03-28\n",
       "66    2010-11-13\n",
       "67    2010-11-15\n",
       "68    2010-12-10\n",
       "69    2010-12-16\n",
       "70    2010-12-23\n",
       "Name: start, dtype: object"
      ]
     },
     "execution_count": 4,
     "metadata": {},
     "output_type": "execute_result"
    }
   ],
   "source": [
    "periods = {}\n",
    "keys = []\n",
    "with pd.HDFStore(DFFile,'r') as h5:\n",
    "    for key in h5.keys():\n",
    "        keys.append(key[1:])\n",
    "for key in keys:\n",
    "    periods[key] = pd.read_hdf(DFFile,key)\n",
    "periods['breaks'].start\n",
    "\n",
    "#start, end = ('1999-01-01','1999-01-29'), ('1999-01-02','1999-02-01')\n",
    "#T =[]\n",
    "#for s, e in zip(start, end):\n",
    "#    T += list(pd.date_range(s, e, freq='10min').to_pydatetime())\n",
    "#T = pd.DatetimeIndex(T)"
   ]
  },
  {
   "cell_type": "markdown",
   "metadata": {},
   "source": [
    "Get all timesteps"
   ]
  },
  {
   "cell_type": "code",
   "execution_count": null,
   "metadata": {},
   "outputs": [],
   "source": []
  },
  {
   "cell_type": "markdown",
   "metadata": {},
   "source": [
    "### Plot the CPOL vs CMORPH map\n",
    "Create the maps first, for this get the metadata"
   ]
  },
  {
   "cell_type": "code",
   "execution_count": 111,
   "metadata": {},
   "outputs": [],
   "source": [
    "with nc(cmorphF) as fnc:\n",
    "    lon_cm = fnc.variables['lon'][:]\n",
    "    lat_cm = fnc.variables['lat'][:]\n",
    "    t_cm = pd.DatetimeIndex(num2date(fnc.variables['time'][:], fnc.variables['time'].units))\n",
    "    with nc(cpolF) as gnc:\n",
    "        lon_cp = gnc.variables['lon'][:]\n",
    "        lat_cp = gnc.variables['lat'][:]\n",
    "        cpol_times ={}\n",
    "        for tt in ('10min', '1h', '3h', '6h'):\n",
    "            cpol_times[tt] = pd.DatetimeIndex(num2date(gnc[tt].variables['time'][:], gnc[tt].variables['time'].units))\n",
    "        #tt = np.array([(np.where(t_cm == p)[0][0], np.where(t_cp == p)[0][0])for p in T if p in t_cp and p in t_cm])\n",
    "        idx = []\n",
    "        for tt in T:\n",
    "            if tt in cpol_times['10min']:\n",
    "                try:\n",
    "                    i10m=np.where(cpol_times['10min'] == tt)[0][0]\n",
    "                    t1h = pd.Timestamp(tt.year, tt.month, tt.day, tt.hour)\n",
    "                    i1h = np.where(cpol_times['1h'] == t1h)[0][0]\n",
    "                    c = np.array(3*list(range(int(24/3))));c.sort();c*=3\n",
    "                    i3h = np.where(cpol_times['3h'] == pd.Timestamp(tt.year, tt.month, tt.day, c[tt.hour]))[0][0]\n",
    "                    i3hc = np.where(t_cm == pd.Timestamp(tt.year, tt.month, tt.day, c[tt.hour]))[0][0]\n",
    "                    c = np.array(6*list(range(int(24/6))));c*=6;c.sort()\n",
    "                    i6h = np.where(cpol_times['6h'] == pd.Timestamp(tt.year, tt.month, tt.day, c[tt.hour]))[0][0]\n",
    "                    idx.append((i10m,i1h,i3h,i6h,i3hc))\n",
    "                except IndexError:\n",
    "                    pass\n",
    "        \n",
    "        idx = np.array(idx)\n",
    "        rr_cp = {}\n",
    "        for n,tt in enumerate(('10min', '1h', '3h', '6h')):\n",
    "            rr_cp[tt] = gnc[tt].variables['rain_rate'][idx[:,n]]\n",
    "    rr_cm = fnc.variables['precip'][idx[:,-1]]"
   ]
  },
  {
   "cell_type": "code",
   "execution_count": 155,
   "metadata": {},
   "outputs": [],
   "source": [
    "m_cm = Basemap(llcrnrlat=min(lat_cm), llcrnrlon=min(lon_cm), urcrnrlat=max(lat_cm), urcrnrlon=max(lon_cm), resolution='i')\n",
    "matplotlib.rcParams['figure.figsize'] = [30,30]\n",
    "avg_type = {'10min':'(10 Min.)', '1h': '(1 hly)', '3h': '(3 hly)', '6h': '(6 hly)'}"
   ]
  },
  {
   "cell_type": "code",
   "execution_count": 135,
   "metadata": {},
   "outputs": [
    {
     "data": {
      "text/plain": [
       "578"
      ]
     },
     "execution_count": 135,
     "metadata": {},
     "output_type": "execute_result"
    }
   ],
   "source": [
    "len()"
   ]
  },
  {
   "cell_type": "code",
   "execution_count": 158,
   "metadata": {},
   "outputs": [],
   "source": [
    "first = True\n",
    "for i in range(44,len(rr_cm)):\n",
    "    fig = plt.figure(figsize=(20,15), dpi=72)\n",
    "    ax1 = plt.subplot2grid((3,3), (0,1))\n",
    "    ax10 = plt.subplot2grid((3,3), (0,0))\n",
    "    ax6 = plt.subplot2grid((3,3), (0,2))\n",
    "    ax = plt.subplot2grid((3,3), (1,0), rowspan=2, colspan=3)\n",
    "    outer_title = 'CMORPH rain-rates at %s' %t_cm[idx[i,-1]].strftime('%Y-%m-%d %H:%M')\n",
    "    inner_title = 'Cpol rain-rate at %s' %cpol_times['10min'][idx[i,1]].strftime('%Y-%m-%d %H:%M')\n",
    "    try:\n",
    "        rr_out = rr_cm[i].filled(0) / 3. /2\n",
    "    except AttributeError:\n",
    "        rr_out = rr_cm[i] / 3. /2       \n",
    "    im = m_cm.pcolormesh(lon_cm, lat_cm, rr_out, vmin=0.5, vmax=5., cmap='Blues')\n",
    "    m_cm.drawcoastlines()\n",
    "    cbar=m_cm.colorbar(im,location='bottom',pad='5%')\n",
    "    cbar.set_label('Rain-rate mm/h',size=26)\n",
    "    cbar.ax.tick_params(labelsize=26)\n",
    "    axins = zoomed_inset_axes(ax, 6, loc=3)\n",
    "    axins.set_xlim(min(lon_cp), max(lon_cp))\n",
    "    axins.set_ylim(min(lat_cp), max(lon_cp))\n",
    "    #if first:\n",
    "    m_cp_i = Basemap(llcrnrlat=min(lat_cp), llcrnrlon=min(lon_cp), urcrnrlat=max(lat_cp), urcrnrlon=max(lon_cp), ax=axins, resolution='i')\n",
    "    m_cp_1 = Basemap(llcrnrlat=min(lat_cp), llcrnrlon=min(lon_cp), urcrnrlat=max(lat_cp), urcrnrlon=max(lon_cp), ax=ax1, resolution='i')\n",
    "    m_cp_10 = Basemap(llcrnrlat=min(lat_cp), llcrnrlon=min(lon_cp), urcrnrlat=max(lat_cp), urcrnrlon=max(lon_cp), ax=ax10, resolution='i')\n",
    "    m_cp_6 = Basemap(llcrnrlat=min(lat_cp), llcrnrlon=min(lon_cp), urcrnrlat=max(lat_cp), urcrnrlon=max(lon_cp), ax=ax6, resolution='i')\n",
    "    first = False\n",
    "    plt.xticks(visible=False)\n",
    "    plt.yticks(visible=False)\n",
    "    for m, name, a, ii in ((m_cp_10,'10min', ax10, 0),(m_cp_1,'1h', ax1, 1),(m_cp_i,'3h', axins, 2),(m_cp_6,'6h', ax6, 3)):\n",
    "        m.pcolormesh(lon_cp, lat_cp, rr_cp[name][i], vmin=0.5, vmax=5. ,cmap='Blues')\n",
    "        m.drawcoastlines()\n",
    "        if name != '3h':\n",
    "            a.set_title('Cpol at %s %s'%(cpol_times[name][idx[i,ii]].strftime('%Y-%m-%d %H:%M'), avg_type[name]), size=18)\n",
    "    mark_inset(ax, axins, loc1=4, loc2=1, fc=\"none\", ec=\"0.5\")\n",
    "    ax.set_title(outer_title,size=26)\n",
    "    plt.tight_layout()\n",
    "    fname=os.path.join(outDir,'comparison-%03i.png'%i)\n",
    "    fig.savefig(fname, dpi=72, facecolor='w', edgecolor='w', bbox_inches='tight')\n",
    "    #plt.show()\n",
    "    ax1.cla(),ax10,ax.cla(),ax6.cla(), fig.clf(), plt.close()\n",
    "    #break"
   ]
  },
  {
   "cell_type": "code",
   "execution_count": null,
   "metadata": {},
   "outputs": [],
   "source": []
  }
 ],
 "metadata": {
  "kernelspec": {
   "display_name": "Python 3",
   "language": "python",
   "name": "python3"
  },
  "language_info": {
   "codemirror_mode": {
    "name": "ipython",
    "version": 3
   },
   "file_extension": ".py",
   "mimetype": "text/x-python",
   "name": "python",
   "nbconvert_exporter": "python",
   "pygments_lexer": "ipython3",
   "version": "3.5.2"
  }
 },
 "nbformat": 4,
 "nbformat_minor": 2
}
