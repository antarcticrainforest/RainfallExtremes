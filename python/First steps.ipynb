{
 "cells": [
  {
   "cell_type": "code",
   "execution_count": 39,
   "metadata": {},
   "outputs": [],
   "source": [
    "import pandas as pd\n",
    "import numpy as np\n",
    "from datetime import datetime, timedelta\n",
    "import os\n",
    "from matplotlib import pyplot as plt\n",
    "import plotly.plotly as py\n",
    "import plotly.graph_objs as go\n",
    "import seaborn as sns\n",
    "import cufflinks as cf\n",
    "cf.set_config_file(offline=False, world_readable=True, theme='ggplot')\n",
    "from DataFrame import *\n",
    "from netCDF4 import Dataset as nc, num2date"
   ]
  },
  {
   "cell_type": "code",
   "execution_count": 48,
   "metadata": {},
   "outputs": [],
   "source": [
    "sns.set_style(\"whitegrid\")\n",
    "cpolFile = os.path.join(os.environ['HOME'], 'Data', 'Extremes', 'CPOL', 'CPOL_area_avg_precip.pkl')\n",
    "largeScaleFile = os.path.join(os.environ['HOME'], 'Data', 'Extremes', 'CPOL', 'CPOL-large-scale_forcing.nc')\n",
    "popeFile = os.path.join(os.environ['HOME'], 'Data', 'Extremes', 'CPOL', 'Pope_regimes.pkl')"
   ]
  },
  {
   "cell_type": "markdown",
   "metadata": {},
   "source": [
    "#### Load the datasets for CPOL rainfall and Large-scale forcing"
   ]
  },
  {
   "cell_type": "code",
   "execution_count": 49,
   "metadata": {},
   "outputs": [],
   "source": [
    "cpolFrame = pd.read_pickle(cpolFile)\n",
    "with nc(largeScaleFile) as h5:\n",
    "    precip = h5.variables['prec_srf'][:]\n",
    "    plev = h5.variables['lev'][:]\n",
    "    omega_600 = h5.variables['omega'][:,np.argmin(np.fabs(600-plev))]\n",
    "    times = pd.DatetimeIndex(num2date(h5.variables['time'][:],h5.variables['time'].units))\n",
    "    largeScale = pd.DataFrame(omega_600,\n",
    "        index=times,columns=['Omega'])"
   ]
  },
  {
   "cell_type": "markdown",
   "metadata": {},
   "source": [
    "#### Make 10 Min Cpol data 6 hourly"
   ]
  },
  {
   "cell_type": "code",
   "execution_count": 206,
   "metadata": {},
   "outputs": [],
   "source": [
    "cpol10m = cpolFrame['all']\n",
    "cpol1H = convScale(cpolFrame['all']/6,'sum','1H')\n",
    "cpol6H = dict(CpolRain = convScale(cpol1H,'mean','6H'))\n",
    "cpol1H = dict(CpolRain =cpol1H)\n",
    "cpol6H['Regime'] = convScale(cpolFrame['regime'],'mean','6H')\n",
    "cpol1H['Regime'] = convScale(cpolFrame['regime'],'mean','1H')\n",
    "cpol6H = pd.DataFrame(cpol6H)\n",
    "cpol1H = pd.DataFrame(cpol1H)\n"
   ]
  },
  {
   "cell_type": "markdown",
   "metadata": {},
   "source": [
    "### The Timeseries of the 6 hly Cpol Data (Pope Regimes added)"
   ]
  },
  {
   "cell_type": "code",
   "execution_count": 51,
   "metadata": {},
   "outputs": [],
   "source": [
    "regime = convScale(cpol6H['Regime'],'mean','1D')"
   ]
  },
  {
   "cell_type": "code",
   "execution_count": 52,
   "metadata": {},
   "outputs": [],
   "source": [
    "periods = partition(pd.read_pickle(popeFile))"
   ]
  },
  {
   "cell_type": "code",
   "execution_count": 53,
   "metadata": {},
   "outputs": [],
   "source": [
    "color = {1. : 'orange', 2. : 'green', 3. : 'red', 4. : 'purple', 5. : 'brown'}"
   ]
  },
  {
   "cell_type": "code",
   "execution_count": 54,
   "metadata": {},
   "outputs": [],
   "source": [
    "shapes = get_shapes(color,periods)"
   ]
  },
  {
   "cell_type": "code",
   "execution_count": 55,
   "metadata": {},
   "outputs": [],
   "source": [
    "data = [ go.Scatter(x=cpol6H['CpolRain'].index,y=cpol6H['CpolRain'].values) ]"
   ]
  },
  {
   "cell_type": "code",
   "execution_count": 56,
   "metadata": {},
   "outputs": [],
   "source": [
    "annotations = []\n",
    "yy = 1\n",
    "for reg, co in color.items():\n",
    "    annotations.append(\n",
    "        dict(\n",
    "            x=1.08,\n",
    "            y=yy,\n",
    "            xref='paper',\n",
    "            yref='paper',\n",
    "            text='Regime %1.0f'%reg,\n",
    "            showarrow=False,\n",
    "            font=dict(\n",
    "                family='sans',\n",
    "                size=12,\n",
    "                color='white'\n",
    "            ),\n",
    "            align='center',\n",
    "            bordercolor='#c7c7c7',\n",
    "            borderwidth=1,\n",
    "            borderpad=4,\n",
    "            bgcolor=co,\n",
    "            opacity=0.8\n",
    "        )\n",
    "    )\n",
    "    yy -= 0.15"
   ]
  },
  {
   "cell_type": "code",
   "execution_count": 57,
   "metadata": {},
   "outputs": [],
   "source": [
    "layout = dict(shapes=shapes,yaxis=dict(title='6h avg Rainfall [mm/h]'),annotations=annotations)"
   ]
  },
  {
   "cell_type": "code",
   "execution_count": 58,
   "metadata": {},
   "outputs": [
    {
     "data": {
      "text/html": [
       "<iframe id=\"igraph\" scrolling=\"no\" style=\"border:none;\" seamless=\"seamless\" src=\"https://plot.ly/~antarcticrainforest/53.embed\" height=\"525px\" width=\"100%\"></iframe>"
      ],
      "text/plain": [
       "<plotly.tools.PlotlyDisplay object>"
      ]
     },
     "execution_count": 58,
     "metadata": {},
     "output_type": "execute_result"
    }
   ],
   "source": [
    "py.iplot({'data': data, 'layout': layout}, filename='rain_timeseries')"
   ]
  },
  {
   "cell_type": "markdown",
   "metadata": {},
   "source": [
    "### The Number of Extreme Events by Quantile"
   ]
  },
  {
   "cell_type": "code",
   "execution_count": 59,
   "metadata": {},
   "outputs": [],
   "source": [
    "quantiles = [80,85,90,95,99]\n",
    "extremeCount = []\n",
    "for quan in quantiles:\n",
    "    extremeCount.append(cpol6H['CpolRain'][cpol6H['CpolRain']>cpol6H['CpolRain'].quantile(quan/100.)].count())"
   ]
  },
  {
   "cell_type": "code",
   "execution_count": 60,
   "metadata": {},
   "outputs": [],
   "source": [
    "extremeCount = pd.Series(extremeCount,index=quantiles)"
   ]
  },
  {
   "cell_type": "code",
   "execution_count": 61,
   "metadata": {},
   "outputs": [
    {
     "data": {
      "text/html": [
       "<iframe id=\"igraph\" scrolling=\"no\" style=\"border:none;\" seamless=\"seamless\" src=\"https://plot.ly/~antarcticrainforest/55.embed\" height=\"525px\" width=\"100%\"></iframe>"
      ],
      "text/plain": [
       "<plotly.tools.PlotlyDisplay object>"
      ]
     },
     "execution_count": 61,
     "metadata": {},
     "output_type": "execute_result"
    }
   ],
   "source": [
    "extremeCount.iplot(kind='bar', filename='extreme_Count',yTitle='Number of Events Above Quantile',xTitle='Quantile',\n",
    "                  title='Number of Events vs. Quantile (6 hly)')"
   ]
  },
  {
   "cell_type": "markdown",
   "metadata": {},
   "source": [
    "### Extreme Rainfall Events (>90)  per Pope Regime"
   ]
  },
  {
   "cell_type": "code",
   "execution_count": 62,
   "metadata": {},
   "outputs": [],
   "source": [
    "cpol6H_2 = pd.concat([cpol6H.loc[largeScale.index],largeScale],axis=1).dropna()\n",
    "extreme = cpol6H_2.loc[cpol6H['CpolRain']>cpol6H['CpolRain'].quantile(90/100.)]\n",
    "extreme_2 = cpol6H.loc[cpol1H['CpolRain']>cpol1H['CpolRain'].quantile(90/100.)]"
   ]
  },
  {
   "cell_type": "code",
   "execution_count": 63,
   "metadata": {},
   "outputs": [
    {
     "data": {
      "text/html": [
       "<iframe id=\"igraph\" scrolling=\"no\" style=\"border:none;\" seamless=\"seamless\" src=\"https://plot.ly/~antarcticrainforest/59.embed\" height=\"525px\" width=\"100%\"></iframe>"
      ],
      "text/plain": [
       "<plotly.tools.PlotlyDisplay object>"
      ]
     },
     "execution_count": 63,
     "metadata": {},
     "output_type": "execute_result"
    }
   ],
   "source": [
    "regCount = []\n",
    "for reg in range(1,6):\n",
    "    regCount.append(extreme_2['CpolRain'].loc[extreme_2['Regime']==reg].count())\n",
    "regCount = pd.Series(regCount,index=range(1,6))\n",
    "regCount.iplot(kind='bar', filename='reg_Count',yTitle='Number of Events in Rainfall Regime',xTitle='Regime',\n",
    "                  title='Number of Events vs. Rainfall Regime')"
   ]
  },
  {
   "cell_type": "code",
   "execution_count": 66,
   "metadata": {},
   "outputs": [],
   "source": [
    "compare_1 = [] \n",
    "compare_1.append({\n",
    "            \"type\": 'violin',\n",
    "            \"y\": extreme_2['CpolRain'].values,\n",
    "            \"name\": 'all Regimes',\n",
    "            \"box\": {\n",
    "                \"visible\": True\n",
    "            },\n",
    "            \"meanline\": {\n",
    "                \"visible\": True\n",
    "            }\n",
    "        })\n",
    "for reg in range(1,6):\n",
    "        compare_1.append({\n",
    "            \"type\": 'violin',\n",
    "            \"y\": extreme_2['CpolRain'].loc[extreme_2['Regime'] == reg].values,\n",
    "            \"name\": \"Regime %i\" %reg,\n",
    "            \"box\": {\n",
    "                \"visible\": True\n",
    "            },\n",
    "            \"meanline\": {\n",
    "                \"visible\": True\n",
    "            }\n",
    "        })\n",
    "        \n",
    "    \n",
    "fig_1 = {\n",
    "    \"data\": compare_1,\n",
    "    \"layout\" : {\n",
    "        \"title\": \"Radar rain in Different Rainfall Regimes\",\n",
    "        \"yaxis\": {\n",
    "            \"zeroline\": False,\n",
    "            \"title\": \"6 Hour Rain-Rate [mm/h]\"\n",
    "            \n",
    "        }\n",
    "    }\n",
    "} "
   ]
  },
  {
   "cell_type": "code",
   "execution_count": 65,
   "metadata": {},
   "outputs": [
    {
     "data": {
      "text/html": [
       "<iframe id=\"igraph\" scrolling=\"no\" style=\"border:none;\" seamless=\"seamless\" src=\"https://plot.ly/~antarcticrainforest/61.embed\" height=\"525px\" width=\"100%\"></iframe>"
      ],
      "text/plain": [
       "<plotly.tools.PlotlyDisplay object>"
      ]
     },
     "execution_count": 65,
     "metadata": {},
     "output_type": "execute_result"
    }
   ],
   "source": [
    "py.iplot(fig_1, filename='rainfall_violine',validate=False)"
   ]
  },
  {
   "cell_type": "markdown",
   "metadata": {},
   "source": [
    "### Large-scale variables in Extreme Rainfall Situations\n",
    "##### The Distribution of $\\omega_{600}$ for Rainfall Events Above the 90th Percentile "
   ]
  },
  {
   "cell_type": "code",
   "execution_count": 67,
   "metadata": {},
   "outputs": [],
   "source": [
    "largeScales = [e for e in extreme.columns if e.lower() not in ('cpolrain','regime')]\n",
    "compare = {}\n",
    "tt = 1\n",
    "for var in largeScales:\n",
    "    compare[var]=[]\n",
    "    compare[var].append({\n",
    "            \"type\": 'violin',\n",
    "            \"y\": extreme[var].values,\n",
    "            \"name\": 'all Regimes',\n",
    "            \"box\": {\n",
    "                \"visible\": True\n",
    "            },\n",
    "            \"meanline\": {\n",
    "                \"visible\": True\n",
    "            }\n",
    "        })\n",
    "    for reg in range(1,6):\n",
    "        compare[var].append({\n",
    "            \"type\": 'violin',\n",
    "            \"y\": extreme[var].loc[extreme['Regime'] == reg].values,\n",
    "            \"name\": \"Regime %i\" %reg,\n",
    "            \"box\": {\n",
    "                \"visible\": True\n",
    "            },\n",
    "            \"meanline\": {\n",
    "                \"visible\": True\n",
    "            }\n",
    "        })\n",
    "        \n",
    "    \n",
    "fig = {\n",
    "    \"data\": compare['Omega'],\n",
    "    \"layout\" : {\n",
    "        \"title\": \"$ \\\\omega_{600} \\\\text{ in Different Rainfall Regimes}$\",\n",
    "        \"yaxis\": {\n",
    "            \"zeroline\": False,\n",
    "            \"title\": \"$ \\\\omega_{600{}}  \\\\text{ [hPa/h]}$\"\n",
    "            \n",
    "        }\n",
    "    }\n",
    "} "
   ]
  },
  {
   "cell_type": "code",
   "execution_count": 68,
   "metadata": {},
   "outputs": [
    {
     "data": {
      "text/html": [
       "<iframe id=\"igraph\" scrolling=\"no\" style=\"border:none;\" seamless=\"seamless\" src=\"https://plot.ly/~antarcticrainforest/57.embed\" height=\"525px\" width=\"100%\"></iframe>"
      ],
      "text/plain": [
       "<plotly.tools.PlotlyDisplay object>"
      ]
     },
     "execution_count": 68,
     "metadata": {},
     "output_type": "execute_result"
    }
   ],
   "source": [
    "py.iplot(fig, filename='omega_violine',validate=False)"
   ]
  },
  {
   "cell_type": "markdown",
   "metadata": {},
   "source": [
    "### Powerlaw of Rainfall aka Self-Organized Crticality\n",
    "First test if rainfall follows as powerlaw. For this bin the rainfall-rate (0.01 steps) and rank them"
   ]
  },
  {
   "cell_type": "code",
   "execution_count": 441,
   "metadata": {},
   "outputs": [],
   "source": [
    "cpol1hBins = cpol10m.round(2).dropna()\n",
    "cpol1hBins = cpol1hBins.loc[cpol1hBins>0]\n",
    "#cpol1hBins = cpol1hBins.loc[cpol1hBins<10]"
   ]
  },
  {
   "cell_type": "code",
   "execution_count": 432,
   "metadata": {},
   "outputs": [],
   "source": [
    "unique = np.unique(cpol1hBins.values)"
   ]
  },
  {
   "cell_type": "code",
   "execution_count": 433,
   "metadata": {},
   "outputs": [],
   "source": [
    "rank = [cpol1hBins.loc[cpol1hBins == i].count() for i in unique]"
   ]
  },
  {
   "cell_type": "code",
   "execution_count": 442,
   "metadata": {},
   "outputs": [],
   "source": [
    "m, t= -87.54385964912281, 701.3508771929825\n",
    "x=np.linspace(1,8,100)\n",
    "y=m*x+t"
   ]
  },
  {
   "cell_type": "code",
   "execution_count": 440,
   "metadata": {},
   "outputs": [
    {
     "data": {
      "text/html": [
       "<iframe id=\"igraph\" scrolling=\"no\" style=\"border:none;\" seamless=\"seamless\" src=\"https://plot.ly/~antarcticrainforest/63.embed\" height=\"525px\" width=\"100%\"></iframe>"
      ],
      "text/plain": [
       "<plotly.tools.PlotlyDisplay object>"
      ]
     },
     "execution_count": 440,
     "metadata": {},
     "output_type": "execute_result"
    }
   ],
   "source": [
    "data = [ go.Scatter(x=unique,y=rank),go.Scatter(x=[x[0],x[-1]],y=[56*y[0],y[-1]])]\n",
    "layout = dict(yaxis=dict(title='log(Number of Occurrances)',type='log'),\n",
    "              xaxis=dict(title='log(Rain-rate)',type='log'))\n",
    "py.iplot({'data': data, 'layout': layout}, filename='rain_rank')"
   ]
  },
  {
   "cell_type": "code",
   "execution_count": null,
   "metadata": {},
   "outputs": [],
   "source": []
  }
 ],
 "metadata": {
  "kernelspec": {
   "display_name": "Python 3",
   "language": "python",
   "name": "python3"
  },
  "language_info": {
   "codemirror_mode": {
    "name": "ipython",
    "version": 3
   },
   "file_extension": ".py",
   "mimetype": "text/x-python",
   "name": "python",
   "nbconvert_exporter": "python",
   "pygments_lexer": "ipython3",
   "version": "3.5.2"
  }
 },
 "nbformat": 4,
 "nbformat_minor": 2
}
