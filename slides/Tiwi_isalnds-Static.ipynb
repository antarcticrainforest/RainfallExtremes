{
 "cells": [
  {
   "cell_type": "code",
   "execution_count": 20,
   "metadata": {
    "slideshow": {
     "slide_type": "skip"
    }
   },
   "outputs": [
    {
     "data": {
      "image/png": "[encoded data removed]",
      "text/plain": [
       "<Figure size 576x72 with 1 Axes>"
      ]
     },
     "metadata": {},
     "output_type": "display_data"
    }
   ],
   "source": [
    "#Import stuff\n",
    "%matplotlib inline\n",
    "import base64\n",
    "from collections import namedtuple, OrderedDict\n",
    "from datetime import datetime\n",
    "from itertools import product\n",
    "import glob\n",
    "import io\n",
    "import os\n",
    "import pickle\n",
    "import sys\n",
    "os.environ['PROJ_LIB']=os.path.join(os.environ['HOME'],'.anaconda3','share','proj')\n",
    "\n",
    "from astropy.stats import LombScargle\n",
    "import astropy.units as u\n",
    "from brewer2mpl import qualitative\n",
    "import cufflinks as cf\n",
    "#cf.set_config_file(offlinedisipadamentedisipadamente=False, world_readable=True, theme='ggplot')\n",
    "import h5py\n",
    "from IPython.display import HTML\n",
    "import json\n",
    "import matplotlib as mpl\n",
    "from matplotlib import animation, rc\n",
    "from matplotlib.colors import LightSource\n",
    "from matplotlib.colorbar import cm as colmap2\n",
    "from matplotlib.patches import Polygon\n",
    "from matplotlib import pyplot as plt\n",
    "from mpl_toolkits.basemap import Basemap, cm as colmap\n",
    "import mpld3\n",
    "from netCDF4 import Dataset as nc, num2date, MFDataset as mc, date2num\n",
    "import numpy as np\n",
    "import palettable as colortable\n",
    "from palettable.mycarta import LinearL_20, CubeYF_20\n",
    "from palettable.colorbrewer.qualitative import Paired_12\n",
    "import pandas as pd\n",
    "import plotly.plotly as py\n",
    "import plotly.graph_objs as go\n",
    "import plotly.offline as pyo\n",
    "from plotly.tools import FigureFactory as FF\n",
    "from plotly.offline import download_plotlyjs, init_notebook_mode, plot, iplot \n",
    "import pytz\n",
    "import seaborn as sns\n",
    "from scipy import signal\n",
    "from scipy import interpolate\n",
    "import tempfile\n",
    "import xarray as xr\n",
    "\n",
    "sns.set()\n",
    "fontsize = 30\n",
    "font = {'family' : 'serif',\n",
    "        'weight' : 'normal',\n",
    "        'size'   : fontsize}\n",
    "mpl.rc('font', **font)\n",
    "mpl.rcParams['figure.figsize'] = [15.0,10.0]\n",
    "plt.rcParams['text.usetex']=True\n",
    "plt.rcParams['text.latex.preamble']=r'\\makeatletter \\newcommand*{\\rom}[1]{\\expandafter\\@slowromancap\\romannumeral #1@} \\makeatother'\n",
    "plt.style.use(\"seaborn-talk\")\n",
    "\n",
    "pal = sns.palplot(sns.color_palette(\"colorblind\", 8))\n",
    "sns.set_style(\"darkgrid\", {'axes.grid':True, 'ticks':True})\n",
    "sns.set_context('talk')\n",
    "sns.set_palette(pal)\n",
    "sns.despine()\n",
    "np.warnings.filterwarnings('ignore')\n",
    "utc = pytz.UTC\n",
    "timezone = pytz.timezone('Australia/Darwin')\n",
    "mpld3.disable_notebook()\n",
    "#pal"
   ]
  },
  {
   "cell_type": "raw",
   "metadata": {
    "slideshow": {
     "slide_type": "skip"
    }
   },
   "source": []
  },
  {
   "cell_type": "code",
   "execution_count": 21,
   "metadata": {
    "slideshow": {
     "slide_type": "skip"
    }
   },
   "outputs": [],
   "source": [
    "#Define showcode button action\n",
    "from IPython.display import HTML\n",
    "showcode='''\n",
    "<style>\n",
    ".button {\n",
    "    background-color: #e7e7e7;\n",
    "    color: black; /* Green */\n",
    "    border: none;\n",
    "    padding: 5px;\n",
    "    text-align: center;\n",
    "    text-decoration: none;\n",
    "    display: inline-block;\n",
    "    font-size: 10px;\n",
    "    margin: 2px 2px;\n",
    "    cursor: pointer;\n",
    "}\n",
    ".button5 {border-radius: 50%;}\n",
    "</style>\n",
    "<script>\n",
    "  function code_toggle() {\n",
    "    if (code_shown){\n",
    "      $('div.input').hide('500');\n",
    "      $('#toggleButton').val('Show Code')\n",
    "    } else {\n",
    "      $('div.input').show('500');\n",
    "      $('#toggleButton').val('Hide Code')\n",
    "    }\n",
    "    code_shown = !code_shown\n",
    "  }\n",
    "\n",
    "  $( document ).ready(function(){\n",
    "    code_shown=false;\n",
    "    $('div.input').hide()\n",
    "  });\n",
    "</script>\n",
    "<form action=\"javascript:code_toggle()\"><input type=\"submit\" id=\"toggleButton\" value=\"Show Code\" class=\"button button5\"></form>\n",
    "\n",
    "'''"
   ]
  },
  {
   "cell_type": "code",
   "execution_count": 22,
   "metadata": {
    "slideshow": {
     "slide_type": "skip"
    }
   },
   "outputs": [],
   "source": [
    "import pandas as pd\n",
    "import io\n",
    "import base64"
   ]
  },
  {
   "cell_type": "code",
   "execution_count": 23,
   "metadata": {
    "slideshow": {
     "slide_type": "skip"
    }
   },
   "outputs": [],
   "source": [
    "def embed_vid(outvid):\n",
    "    video = io.open(outvid, 'r+b').read()\n",
    "    encoded = base64.b64encode(video)\n",
    "    return HTML(data='''<video alt=\"test\" width=\"950\" height=\"500\" loop=\"true\" controls>\n",
    "                <source src=\"data:video/mp4;base64,{0}\" type=\"video/mp4\" loop=\"true\" />\n",
    "             </video>'''.format(encoded.decode('ascii')))"
   ]
  },
  {
   "cell_type": "markdown",
   "metadata": {
    "slideshow": {
     "slide_type": "slide"
    }
   },
   "source": [
    "<section data-background=\"\">\n",
    "<div class=\"intro-body\">\n",
    "<div class=\"intro_h1\"><h1>Extremes Events of Tropical Island Thunderstorms</h1></div>\n",
    "<h3>Does a Resolution Increase Improve their Representaion?</h3>\n",
    "<p><strong><span class=\"a\">Martin Bergemann</span></strong> <span class=\"b\"></span>Uni Melbourne<span></span>\n",
    "</p>\n",
    "<center><img src=\"HectorCloud.png\" style=\"height:350px;\" alt=\"Hector\" height=\"200px\"></center>\n",
    "</div>\n",
    "</section>"
   ]
  },
  {
   "cell_type": "code",
   "execution_count": 24,
   "metadata": {
    "slideshow": {
     "slide_type": "notes"
    }
   },
   "outputs": [
    {
     "data": {
      "text/html": [
       "\n",
       "<style>\n",
       ".button {\n",
       "    background-color: #e7e7e7;\n",
       "    color: black; /* Green */\n",
       "    border: none;\n",
       "    padding: 5px;\n",
       "    text-align: center;\n",
       "    text-decoration: none;\n",
       "    display: inline-block;\n",
       "    font-size: 10px;\n",
       "    margin: 2px 2px;\n",
       "    cursor: pointer;\n",
       "}\n",
       ".button5 {border-radius: 50%;}\n",
       "</style>\n",
       "<script>\n",
       "  function code_toggle() {\n",
       "    if (code_shown){\n",
       "      $('div.input').hide('500');\n",
       "      $('#toggleButton').val('Show Code')\n",
       "    } else {\n",
       "      $('div.input').show('500');\n",
       "      $('#toggleButton').val('Hide Code')\n",
       "    }\n",
       "    code_shown = !code_shown\n",
       "  }\n",
       "\n",
       "  $( document ).ready(function(){\n",
       "    code_shown=false;\n",
       "    $('div.input').hide()\n",
       "  });\n",
       "</script>\n",
       "<form action=\"javascript:code_toggle()\"><input type=\"submit\" id=\"toggleButton\" value=\"Show Code\" class=\"button button5\"></form>\n",
       "\n"
      ],
      "text/plain": [
       "<IPython.core.display.HTML object>"
      ]
     },
     "execution_count": 24,
     "metadata": {},
     "output_type": "execute_result"
    }
   ],
   "source": [
    "HTML(showcode)"
   ]
  },
  {
   "cell_type": "markdown",
   "metadata": {
    "slideshow": {
     "slide_type": "skip"
    }
   },
   "source": [
    "* More destinct Extreme Events during Break-Periods"
   ]
  },
  {
   "cell_type": "markdown",
   "metadata": {
    "slideshow": {
     "slide_type": "slide"
    }
   },
   "source": [
    "## Simulation of Hector Events (12/11 - 20/11/2006)"
   ]
  },
  {
   "cell_type": "markdown",
   "metadata": {
    "slideshow": {
     "slide_type": "-"
    }
   },
   "source": [
    "<figure>\n",
    "    <center><img src=\"Topo.png\" alt=\"Study area\" style=\"height:400px;width:500px;\"/></center>\n",
    "<figcaption  style=\"text-align: right\">Study Area</figcaption>\n",
    "</figure>"
   ]
  },
  {
   "cell_type": "markdown",
   "metadata": {
    "slideshow": {
     "slide_type": "fragment"
    }
   },
   "source": [
    "\n",
    "* 80 Vertial Level \n",
    "* 8 Ensemble Member, each 6 hours different init times"
   ]
  },
  {
   "cell_type": "markdown",
   "metadata": {
    "slideshow": {
     "slide_type": "skip"
    }
   },
   "source": [
    "f =  open('../slides/d3plot.dmp','rb')\n",
    "p3plot = pickle.load(f)\n",
    "f.close()\n",
    "plot_data = pd.read_pickle('WOH_aavg.pkl')\n",
    "import seaborn as sns\n",
    "import mpld3"
   ]
  },
  {
   "cell_type": "markdown",
   "metadata": {
    "slideshow": {
     "slide_type": "slide"
    }
   },
   "source": [
    "## Simulation of Hector Events (12/11 - 20/11/2006)"
   ]
  },
  {
   "cell_type": "code",
   "execution_count": 2,
   "metadata": {
    "slideshow": {
     "slide_type": "-"
    }
   },
   "outputs": [
    {
     "data": {
      "text/html": [
       "<figure>\n",
       "<center><img src=\"Fig_005.png\" alt=\"Study area\" style='height:400px;'/></center>\n",
       "<figcaption  style=\"text-align: right\">Time Series of Area Avg. Rainfall</figcaption>\n",
       "</figure>"
      ],
      "text/plain": [
       "<IPython.core.display.HTML object>"
      ]
     },
     "metadata": {},
     "output_type": "display_data"
    }
   ],
   "source": [
    "%%HTML\n",
    "<figure>\n",
    "<center><img src=\"Fig_005.png\" alt=\"Study area\" style='height:400px;'/></center>\n",
    "<figcaption  style=\"text-align: right\">Time Series of Area Avg. Rainfall</figcaption>\n",
    "</figure>"
   ]
  },
  {
   "cell_type": "code",
   "execution_count": 28,
   "metadata": {
    "slideshow": {
     "slide_type": "subslide"
    }
   },
   "outputs": [
    {
     "data": {
      "text/html": [
       "<figure>\n",
       "<video width=\"750\" height=\"400\" loop=\"true\" controls>\n",
       "  <source src='WeekOfHector-Ens-3.mp4' type=\"video/mp4\">\n",
       "</video>\n",
       " <figcaption  style=\"text-align: right\">Example UM 0.44km Simulation and CPOL</figcaption>\n",
       "</figure>"
      ],
      "text/plain": [
       "<IPython.core.display.HTML object>"
      ]
     },
     "metadata": {},
     "output_type": "display_data"
    }
   ],
   "source": [
    "%%HTML\n",
    "<figure>\n",
    "<video width=\"750\" height=\"400\" loop=\"true\" controls>\n",
    "  <source src='WeekOfHector-Ens-3.mp4' type=\"video/mp4\">\n",
    "</video>\n",
    " <figcaption  style=\"text-align: right\">Example UM 0.44km Simulation and CPOL</figcaption>\n",
    "</figure>"
   ]
  },
  {
   "cell_type": "markdown",
   "metadata": {
    "slideshow": {
     "slide_type": "slide"
    }
   },
   "source": [
    "<figure>\n",
    "<img src=\"Fig_010.png\" alt=\"Study area\" style='height:450px;'/>\n",
    "<figcaption  style=\"text-align: right\">Maps of Rainfall</figcaption>\n",
    "</figure>"
   ]
  },
  {
   "cell_type": "markdown",
   "metadata": {
    "slideshow": {
     "slide_type": "subslide"
    }
   },
   "source": [
    "### The simulated Diurnal Cycle"
   ]
  },
  {
   "cell_type": "markdown",
   "metadata": {
    "slideshow": {
     "slide_type": "fragment"
    }
   },
   "source": [
    "<figure>\n",
    "<img src=\"Fig_012.png\" alt=\"Study area\" style='height:450px;'/>\n",
    "<figcaption  style=\"text-align: right\">Time of Rainfall Maximum and Area Avg Diurnal Cycle</figcaption>\n",
    "</figure>"
   ]
  },
  {
   "cell_type": "code",
   "execution_count": 29,
   "metadata": {
    "slideshow": {
     "slide_type": "subslide"
    }
   },
   "outputs": [
    {
     "data": {
      "text/html": [
       "<figure>\n",
       "<video width=\"750\" height=\"400\" loop=\"true\" controls>\n",
       "  <source src='WeekOfHector-Diurnal-2.mp4' type=\"video/mp4\">\n",
       "</video>\n",
       " <figcaption  style=\"text-align: right\">Diurnal Cycle</figcaption>\n",
       "</figure>"
      ],
      "text/plain": [
       "<IPython.core.display.HTML object>"
      ]
     },
     "metadata": {},
     "output_type": "display_data"
    }
   ],
   "source": [
    "%%HTML\n",
    "<figure>\n",
    "<video width=\"750\" height=\"400\" loop=\"true\" controls>\n",
    "  <source src='WeekOfHector-Diurnal-2.mp4' type=\"video/mp4\">\n",
    "</video>\n",
    " <figcaption  style=\"text-align: right\">Diurnal Cycle</figcaption>\n",
    "</figure>"
   ]
  },
  {
   "cell_type": "markdown",
   "metadata": {
    "slideshow": {
     "slide_type": "slide"
    }
   },
   "source": [
    "## How well are Extremes Represented?"
   ]
  },
  {
   "cell_type": "markdown",
   "metadata": {
    "slideshow": {
     "slide_type": "fragment"
    }
   },
   "source": [
    "\n",
    "<figure>\n",
    "<img src=\"Fig_013.png\" alt=\"Study area\" style='height: 450px;'/>\n",
    "<figcaption  style=\"text-align: right\">Occurrence of Extreme Events</figcaption>\n",
    "</figure>"
   ]
  },
  {
   "cell_type": "markdown",
   "metadata": {
    "slideshow": {
     "slide_type": "slide"
    }
   },
   "source": [
    "### In Summary:\n",
    " * Storms are a Little too early in the Model\n",
    " * Occure too Central over Melville Island\n",
    " * Extreme Events are Slighly Over Estimated\n",
    " * Slight Improvement with Higher Resolution Version"
   ]
  },
  {
   "cell_type": "markdown",
   "metadata": {
    "slideshow": {
     "slide_type": "slide"
    }
   },
   "source": [
    "## Storm-Track Analysis\n",
    "* Analyse Strom tracks using an adopted tracking verion of TINT (TINT is not TITAN)\n",
    "* TINT -> Tracking with Phase-Correlation and \"Hungarian\" similarity mathiching"
   ]
  },
  {
   "cell_type": "code",
   "execution_count": 30,
   "metadata": {
    "slideshow": {
     "slide_type": "fragment"
    }
   },
   "outputs": [
    {
     "data": {
      "text/html": [
       "<div>\n",
       "<style scoped>\n",
       "    .dataframe tbody tr th:only-of-type {\n",
       "        vertical-align: middle;\n",
       "    }\n",
       "\n",
       "    .dataframe tbody tr th {\n",
       "        vertical-align: top;\n",
       "    }\n",
       "\n",
       "    .dataframe thead th {\n",
       "        text-align: right;\n",
       "    }\n",
       "</style>\n",
       "<table border=\"1\" class=\"dataframe\">\n",
       "  <thead>\n",
       "    <tr style=\"text-align: right;\">\n",
       "      <th></th>\n",
       "      <th>UM 1.33km</th>\n",
       "      <th>UM 0.44km</th>\n",
       "      <th>CPOL</th>\n",
       "    </tr>\n",
       "  </thead>\n",
       "  <tbody>\n",
       "    <tr>\n",
       "      <th>Area</th>\n",
       "      <td>76.67</td>\n",
       "      <td>61.25</td>\n",
       "      <td>110.68</td>\n",
       "    </tr>\n",
       "    <tr>\n",
       "      <th>Duration</th>\n",
       "      <td>60.00</td>\n",
       "      <td>50.00</td>\n",
       "      <td>60.00</td>\n",
       "    </tr>\n",
       "    <tr>\n",
       "      <th>Avg-Rain</th>\n",
       "      <td>4.78</td>\n",
       "      <td>5.65</td>\n",
       "      <td>4.52</td>\n",
       "    </tr>\n",
       "    <tr>\n",
       "      <th>Max-Rain</th>\n",
       "      <td>6.90</td>\n",
       "      <td>8.56</td>\n",
       "      <td>6.79</td>\n",
       "    </tr>\n",
       "    <tr>\n",
       "      <th>Speed</th>\n",
       "      <td>10.03</td>\n",
       "      <td>12.71</td>\n",
       "      <td>12.67</td>\n",
       "    </tr>\n",
       "    <tr>\n",
       "      <th># Storms</th>\n",
       "      <td>73.00</td>\n",
       "      <td>50.00</td>\n",
       "      <td>42.00</td>\n",
       "    </tr>\n",
       "  </tbody>\n",
       "</table>\n",
       "</div>"
      ],
      "text/plain": [
       "          UM 1.33km  UM 0.44km    CPOL\n",
       "Area          76.67      61.25  110.68\n",
       "Duration      60.00      50.00   60.00\n",
       "Avg-Rain       4.78       5.65    4.52\n",
       "Max-Rain       6.90       8.56    6.79\n",
       "Speed         10.03      12.71   12.67\n",
       "# Storms      73.00      50.00   42.00"
      ]
     },
     "metadata": {},
     "output_type": "display_data"
    }
   ],
   "source": [
    "display(pd.read_pickle('medians.pkl').round(2))"
   ]
  },
  {
   "cell_type": "markdown",
   "metadata": {
    "slideshow": {
     "slide_type": "slide"
    }
   },
   "source": [
    "## Storm Intensities"
   ]
  },
  {
   "cell_type": "markdown",
   "metadata": {
    "slideshow": {
     "slide_type": "-"
    }
   },
   "source": [
    "<figure>\n",
    "<img src=\"Fig_020.png\" alt=\"Study area\" style='height: 450px;'/>\n",
    "<figcaption  style=\"text-align: right\">Distribution of Storm Percentiles</figcaption>\n",
    "</figure>"
   ]
  },
  {
   "cell_type": "markdown",
   "metadata": {
    "slideshow": {
     "slide_type": "slide"
    }
   },
   "source": [
    "### The strongest Stormes (>9th decile)"
   ]
  },
  {
   "cell_type": "code",
   "execution_count": 31,
   "metadata": {
    "slideshow": {
     "slide_type": "-"
    }
   },
   "outputs": [
    {
     "data": {
      "text/html": [
       "<figure>\n",
       "<img src=\"Fig_018.png\" alt=\"Study area\" style='width:700px;'/>\n",
       "<figcaption  style=\"text-align: right\">Tracks of most intense storms</figcaption>\n",
       "</figure>"
      ],
      "text/plain": [
       "<IPython.core.display.HTML object>"
      ]
     },
     "metadata": {},
     "output_type": "display_data"
    }
   ],
   "source": [
    "%%HTML\n",
    "<figure>\n",
    "<img src=\"Fig_018.png\" alt=\"Study area\" style='width:700px;'/>\n",
    "<figcaption  style=\"text-align: right\">Tracks of most intense storms</figcaption>\n",
    "</figure>"
   ]
  },
  {
   "cell_type": "markdown",
   "metadata": {
    "slideshow": {
     "slide_type": "slide"
    }
   },
   "source": [
    "### Storm Properties by Intensity"
   ]
  },
  {
   "cell_type": "code",
   "execution_count": 32,
   "metadata": {
    "slideshow": {
     "slide_type": "skip"
    }
   },
   "outputs": [],
   "source": [
    "cycles = pd.read_pickle('storm_cycle.pkl')"
   ]
  },
  {
   "cell_type": "code",
   "execution_count": 33,
   "metadata": {
    "slideshow": {
     "slide_type": "fragment"
    }
   },
   "outputs": [
    {
     "data": {
      "text/html": [
       "<figure>\n",
       "<img src=\"Cycle.png\" alt=\"Study area\" style='height:600px;'/>\n",
       "<figcaption  style=\"text-align: right\">Rainfall Cycles</figcaption>\n",
       "</figure>"
      ],
      "text/plain": [
       "<IPython.core.display.HTML object>"
      ]
     },
     "metadata": {},
     "output_type": "display_data"
    }
   ],
   "source": [
    "%%HTML\n",
    "<figure>\n",
    "<img src=\"Cycle.png\" alt=\"Study area\" style='height:600px;'/>\n",
    "<figcaption  style=\"text-align: right\">Rainfall Cycles</figcaption>\n",
    "</figure>"
   ]
  },
  {
   "cell_type": "markdown",
   "metadata": {
    "slideshow": {
     "slide_type": "subslide"
    }
   },
   "source": [
    "<figure>\n",
    "<img src=\"Fig_019.png\" alt=\"Study area\"  style=\"height:600px;\"/>\n",
    "<figcaption  style=\"text-align: right\">Comparison Storm Properties by Rainfall Quintiles</figcaption>\n",
    "</figure>"
   ]
  },
  {
   "cell_type": "markdown",
   "metadata": {
    "slideshow": {
     "slide_type": "slide"
    }
   },
   "source": [
    "### Why are Storms more intense in the Sub-km version?"
   ]
  },
  {
   "cell_type": "markdown",
   "metadata": {
    "slideshow": {
     "slide_type": "fragment"
    }
   },
   "source": [
    " * Investigation of Cold-Pools\n"
   ]
  },
  {
   "cell_type": "code",
   "execution_count": 34,
   "metadata": {
    "slideshow": {
     "slide_type": "-"
    }
   },
   "outputs": [
    {
     "data": {
      "text/html": [
       "<figure>\n",
       "<video width=\"500\" loop=\"true\" controls>\n",
       "  <source src='ColdPool-Ens-1.mp4' type=\"video/mp4\">\n",
       "</video>\n",
       " <figcaption  style=\"text-align: right\">Tracking with Density Potential Temperature Field Pertubation</figcaption>\n",
       "</figure>"
      ],
      "text/plain": [
       "<IPython.core.display.HTML object>"
      ]
     },
     "metadata": {},
     "output_type": "display_data"
    }
   ],
   "source": [
    "%%HTML\n",
    "<figure>\n",
    "<video width=\"500\" loop=\"true\" controls>\n",
    "  <source src='ColdPool-Ens-1.mp4' type=\"video/mp4\">\n",
    "</video>\n",
    " <figcaption  style=\"text-align: right\">Tracking with Density Potential Temperature Field Pertubation</figcaption>\n",
    "</figure>"
   ]
  },
  {
   "cell_type": "markdown",
   "metadata": {
    "slideshow": {
     "slide_type": "slide"
    }
   },
   "source": [
    "<figure>\n",
    "<img src=\"Fig_038.png\" alt=\"Study area\" style=\"height:600px;\"/>\n",
    "<figcaption  style=\"text-align: right\">Comparison Cold-Pool Properties and Mass Flux by Rainfall Quintiles</figcaption>\n",
    "</figure>"
   ]
  },
  {
   "cell_type": "code",
   "execution_count": 35,
   "metadata": {
    "slideshow": {
     "slide_type": "skip"
    }
   },
   "outputs": [],
   "source": [
    "fluxes = {}\n",
    "lookup = {'UM133': 'UM 1.33km', 'UM044': 'UM 0.44km'}\n",
    "import h5py\n",
    "with h5py.File('fluxes.hdf5','r') as h5:\n",
    "    P = h5['P'][:]\n",
    "    for key, flx in lookup.items():\n",
    "        fluxes[flx] = {}\n",
    "        for var in h5[key].keys():\n",
    "            fluxes[flx][var] = {}\n",
    "            for quant in h5[key][var].keys():\n",
    "                fluxes[flx][var][int(quant)] = h5[key][var][quant][:]             "
   ]
  },
  {
   "cell_type": "code",
   "execution_count": 36,
   "metadata": {
    "slideshow": {
     "slide_type": "skip"
    }
   },
   "outputs": [],
   "source": [
    "def split(n, wspace=0.005):\n",
    "    linspace = np.linspace(0, 1, n+1)\n",
    "    out = []\n",
    "    for d in range(n):\n",
    "        out.append((linspace[d]+wspace/2, linspace[d+1]-wspace/2))\n",
    "    return out "
   ]
  },
  {
   "cell_type": "markdown",
   "metadata": {
    "slideshow": {
     "slide_type": "slide"
    }
   },
   "source": [
    "* The State of the Atmosphere"
   ]
  },
  {
   "cell_type": "code",
   "execution_count": 4,
   "metadata": {
    "slideshow": {
     "slide_type": "fragment"
    }
   },
   "outputs": [
    {
     "data": {
      "text/html": [
       "<figure>\n",
       "<img src=\"Fig_027.png\" alt=\"Study area\" style='height:500px;'/>\n",
       "<figcaption  style=\"text-align: right\">Comparison of vert. velo. and moist. flux</figcaption>\n",
       "</figure>"
      ],
      "text/plain": [
       "<IPython.core.display.HTML object>"
      ]
     },
     "metadata": {},
     "output_type": "display_data"
    }
   ],
   "source": [
    "%%HTML\n",
    "<figure>\n",
    "<img src=\"Fig_027.png\" alt=\"Study area\" style='height:500px;'/>\n",
    "<figcaption  style=\"text-align: right\">Comparison of vert. velo. and moist. flux</figcaption>\n",
    "</figure>"
   ]
  },
  {
   "cell_type": "markdown",
   "metadata": {
    "slideshow": {
     "slide_type": "subslide"
    }
   },
   "source": [
    "* The State of the Atmosphere"
   ]
  },
  {
   "cell_type": "code",
   "execution_count": 5,
   "metadata": {
    "slideshow": {
     "slide_type": "-"
    }
   },
   "outputs": [
    {
     "data": {
      "text/html": [
       "<figure>\n",
       "<img src=\"Fig_028.png\" alt=\"Study area\" style='height:500px;'/>\n",
       "<figcaption  style=\"text-align: right\">Comparison of Cloudwater before and during storm</figcaption>\n",
       "</figure>"
      ],
      "text/plain": [
       "<IPython.core.display.HTML object>"
      ]
     },
     "metadata": {},
     "output_type": "display_data"
    }
   ],
   "source": [
    "%%HTML\n",
    "<figure>\n",
    "<img src=\"Fig_028.png\" alt=\"Study area\" style='height:500px;'/>\n",
    "<figcaption  style=\"text-align: right\">Comparison of Cloudwater before and during storm</figcaption>\n",
    "</figure>"
   ]
  },
  {
   "cell_type": "code",
   "execution_count": 39,
   "metadata": {
    "slideshow": {
     "slide_type": "skip"
    }
   },
   "outputs": [
    {
     "data": {
      "text/html": [
       "<div>\n",
       "<style scoped>\n",
       "    .dataframe tbody tr th:only-of-type {\n",
       "        vertical-align: middle;\n",
       "    }\n",
       "\n",
       "    .dataframe tbody tr th {\n",
       "        vertical-align: top;\n",
       "    }\n",
       "\n",
       "    .dataframe thead th {\n",
       "        text-align: right;\n",
       "    }\n",
       "</style>\n",
       "<table border=\"1\" class=\"dataframe\">\n",
       "  <thead>\n",
       "    <tr style=\"text-align: right;\">\n",
       "      <th></th>\n",
       "      <th>type</th>\n",
       "      <th>quant</th>\n",
       "      <th>fraction</th>\n",
       "      <th>run</th>\n",
       "      <th>precip</th>\n",
       "      <th>ustar</th>\n",
       "      <th>pbl_h</th>\n",
       "    </tr>\n",
       "  </thead>\n",
       "  <tbody>\n",
       "    <tr>\n",
       "      <th>0</th>\n",
       "      <td>1</td>\n",
       "      <td>5</td>\n",
       "      <td>6.726190</td>\n",
       "      <td>UM 1.33km</td>\n",
       "      <td>6.13328</td>\n",
       "      <td>0.45187</td>\n",
       "      <td>629.894409</td>\n",
       "    </tr>\n",
       "    <tr>\n",
       "      <th>1</th>\n",
       "      <td>2</td>\n",
       "      <td>5</td>\n",
       "      <td>0.000000</td>\n",
       "      <td>UM 1.33km</td>\n",
       "      <td>6.13328</td>\n",
       "      <td>0.45187</td>\n",
       "      <td>629.894409</td>\n",
       "    </tr>\n",
       "    <tr>\n",
       "      <th>2</th>\n",
       "      <td>3</td>\n",
       "      <td>5</td>\n",
       "      <td>70.535714</td>\n",
       "      <td>UM 1.33km</td>\n",
       "      <td>6.13328</td>\n",
       "      <td>0.45187</td>\n",
       "      <td>629.894409</td>\n",
       "    </tr>\n",
       "    <tr>\n",
       "      <th>3</th>\n",
       "      <td>4</td>\n",
       "      <td>5</td>\n",
       "      <td>0.416667</td>\n",
       "      <td>UM 1.33km</td>\n",
       "      <td>6.13328</td>\n",
       "      <td>0.45187</td>\n",
       "      <td>629.894409</td>\n",
       "    </tr>\n",
       "    <tr>\n",
       "      <th>4</th>\n",
       "      <td>5</td>\n",
       "      <td>5</td>\n",
       "      <td>0.000000</td>\n",
       "      <td>UM 1.33km</td>\n",
       "      <td>6.13328</td>\n",
       "      <td>0.45187</td>\n",
       "      <td>629.894409</td>\n",
       "    </tr>\n",
       "  </tbody>\n",
       "</table>\n",
       "</div>"
      ],
      "text/plain": [
       "   type  quant   fraction        run   precip    ustar       pbl_h\n",
       "0     1      5   6.726190  UM 1.33km  6.13328  0.45187  629.894409\n",
       "1     2      5   0.000000  UM 1.33km  6.13328  0.45187  629.894409\n",
       "2     3      5  70.535714  UM 1.33km  6.13328  0.45187  629.894409\n",
       "3     4      5   0.416667  UM 1.33km  6.13328  0.45187  629.894409\n",
       "4     5      5   0.000000  UM 1.33km  6.13328  0.45187  629.894409"
      ]
     },
     "execution_count": 39,
     "metadata": {},
     "output_type": "execute_result"
    }
   ],
   "source": [
    "pbl_types = pd.read_pickle('pbl_types.pkl')\n",
    "pbl_types.head()"
   ]
  },
  {
   "cell_type": "markdown",
   "metadata": {
    "slideshow": {
     "slide_type": "slide"
    }
   },
   "source": [
    "* Also somthing in the Boundary Layer"
   ]
  },
  {
   "cell_type": "code",
   "execution_count": 6,
   "metadata": {
    "slideshow": {
     "slide_type": "-"
    }
   },
   "outputs": [
    {
     "data": {
      "text/html": [
       "<figure>\n",
       "<img src=\"Fig_040.png\" alt=\"Study area\" style='height:500px;'/>\n",
       "<figcaption  style=\"text-align: right\">Boundary Layer Properties</figcaption>\n",
       "</figure>"
      ],
      "text/plain": [
       "<IPython.core.display.HTML object>"
      ]
     },
     "metadata": {},
     "output_type": "display_data"
    }
   ],
   "source": [
    "%%HTML\n",
    "<figure>\n",
    "<img src=\"Fig_040.png\" alt=\"Study area\" style='height:500px;'/>\n",
    "<figcaption  style=\"text-align: right\">Boundary Layer Properties</figcaption>\n",
    "</figure>"
   ]
  },
  {
   "cell_type": "code",
   "execution_count": 41,
   "metadata": {
    "slideshow": {
     "slide_type": "subslide"
    }
   },
   "outputs": [
    {
     "data": {
      "text/html": [
       "<figure>\n",
       "<video width=\"750\" height=\"350\" loop=\"true\" controls>\n",
       "  <source src='ColdPool_nativ_2.mp4' type=\"video/mp4\">\n",
       "</video>\n",
       " <figcaption  style=\"text-align: right\">Cold-Pool (center) and Rainfall (outer) for two ensemble member</figcaption>\n",
       "</figure>\n",
       "<img src=\"Diagram1.png\" alt=\"Study area\" style=\"height:150px;\"/>\n",
       "<p>One possible problem: Micro-Phys. depends on RH<sub>crit</sub> that is chosen on 80!! levels</p>"
      ],
      "text/plain": [
       "<IPython.core.display.HTML object>"
      ]
     },
     "metadata": {},
     "output_type": "display_data"
    }
   ],
   "source": [
    "%%HTML\n",
    "<figure>\n",
    "<video width=\"750\" height=\"350\" loop=\"true\" controls>\n",
    "  <source src='ColdPool_nativ_2.mp4' type=\"video/mp4\">\n",
    "</video>\n",
    " <figcaption  style=\"text-align: right\">Cold-Pool (center) and Rainfall (outer) for two ensemble member</figcaption>\n",
    "</figure>\n",
    "<img src=\"Diagram1.png\" alt=\"Study area\" style=\"height:150px;\"/>\n",
    "<p>One possible problem: Micro-Phys. depends on RH<sub>crit</sub> that is chosen on 80!! levels</p>"
   ]
  },
  {
   "cell_type": "code",
   "execution_count": null,
   "metadata": {},
   "outputs": [],
   "source": []
  },
  {
   "cell_type": "code",
   "execution_count": null,
   "metadata": {},
   "outputs": [],
   "source": []
  },
  {
   "cell_type": "code",
   "execution_count": null,
   "metadata": {},
   "outputs": [],
   "source": []
  }
 ],
 "metadata": {
  "celltoolbar": "Slideshow",
  "kernelspec": {
   "display_name": "Python 3",
   "language": "python",
   "name": "python3"
  },
  "language_info": {
   "codemirror_mode": {
    "name": "ipython",
    "version": 3
   },
   "file_extension": ".py",
   "mimetype": "text/x-python",
   "name": "python",
   "nbconvert_exporter": "python",
   "pygments_lexer": "ipython3",
   "version": "3.6.5"
  }
 },
 "nbformat": 4,
 "nbformat_minor": 2
}
