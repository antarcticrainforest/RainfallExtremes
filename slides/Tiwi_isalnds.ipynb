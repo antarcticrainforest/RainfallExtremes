{
 "cells": [
  {
   "cell_type": "raw",
   "metadata": {
    "slideshow": {
     "slide_type": "skip"
    }
   },
   "source": [
    "<script>\n",
    "  jQuery(document).ready(function($) {\n",
    "\n",
    "  $(window).load(function(){\n",
    "    $('#preloader').fadeOut('slow',function(){$(this).remove();});\n",
    "  });\n",
    "\n",
    "  });\n",
    "</script>\n",
    "\n",
    "<style type=\"text/css\">\n",
    "  div#preloader { position: fixed;\n",
    "      left: 0;\n",
    "      top: 0;\n",
    "      z-index: 999;\n",
    "      width: 100%;\n",
    "      height: 100%;\n",
    "      overflow: visible;\n",
    "      background: #fff url('http://preloaders.net/preloaders/720/Moving%20line.gif') no-repeat center center;\n",
    "  }\n",
    "\n",
    "</style>\n",
    "<div id=\"preloader\"></div>\n",
    "<style>\n",
    ".button {\n",
    "    background-color: #e7e7e7;\n",
    "    color: black; /* Green */\n",
    "    border: none;\n",
    "    padding: 5px;\n",
    "    text-align: center;\n",
    "    text-decoration: none;\n",
    "    display: inline-block;\n",
    "    font-size: 10px;\n",
    "    margin: 2px 2px;\n",
    "    cursor: pointer;\n",
    "}\n",
    ".button5 {border-radius: 50%;}\n",
    "</style>\n",
    "<script>\n",
    "  function code_toggle() {\n",
    "    if (code_shown){\n",
    "      $('div.input').hide('500');\n",
    "      $('#toggleButton').val('Show Code')\n",
    "    } else {\n",
    "      $('div.input').show('500');\n",
    "      $('#toggleButton').val('Hide Code')\n",
    "    }\n",
    "    code_shown = !code_shown\n",
    "  }\n",
    "\n",
    "  $( document ).ready(function(){\n",
    "    code_shown=false;\n",
    "    $('div.input').hide()\n",
    "  });\n",
    "</script>\n",
    "<form action=\"javascript:code_toggle()\"><input type=\"submit\" id=\"toggleButton\" value=\"Show Code\" class=\"button button5\"></form>\n",
    "<style>\n",
    "figure {\n",
    "    display: inline-block;\n",
    "    border: 1px dotted gray;\n",
    "    margin: 200px; /* adjust as needed */\n",
    "}\n",
    "figure img {\n",
    "    vertical-align: top;\n",
    "}\n",
    "figure figcaption {\n",
    "    border: 1px dotted blue;\n",
    "    text-align: center;\n",
    "}\n",
    "</style>"
   ]
  },
  {
   "cell_type": "code",
   "execution_count": 36,
   "metadata": {
    "slideshow": {
     "slide_type": "skip"
    }
   },
   "outputs": [],
   "source": [
    "#Define showcode button action\n",
    "from IPython.display import HTML\n",
    "showcode='''\n",
    "<style>\n",
    ".button {\n",
    "    background-color: #e7e7e7;\n",
    "    color: black; /* Green */\n",
    "    border: none;\n",
    "    padding: 5px;\n",
    "    text-align: center;\n",
    "    text-decoration: none;\n",
    "    display: inline-block;\n",
    "    font-size: 10px;\n",
    "    margin: 2px 2px;\n",
    "    cursor: pointer;\n",
    "}\n",
    ".button5 {border-radius: 50%;}\n",
    "</style>\n",
    "<script>\n",
    "  function code_toggle() {\n",
    "    if (code_shown){\n",
    "      $('div.input').hide('500');\n",
    "      $('#toggleButton').val('Show Code')\n",
    "    } else {\n",
    "      $('div.input').show('500');\n",
    "      $('#toggleButton').val('Hide Code')\n",
    "    }\n",
    "    code_shown = !code_shown\n",
    "  }\n",
    "\n",
    "  $( document ).ready(function(){\n",
    "    code_shown=false;\n",
    "    $('div.input').hide()\n",
    "  });\n",
    "</script>\n",
    "<form action=\"javascript:code_toggle()\"><input type=\"submit\" id=\"toggleButton\" value=\"Show Code\" class=\"button button5\"></form>\n",
    "\n",
    "'''"
   ]
  },
  {
   "cell_type": "code",
   "execution_count": 37,
   "metadata": {
    "slideshow": {
     "slide_type": "skip"
    }
   },
   "outputs": [],
   "source": [
    "import pandas as pd\n",
    "import io\n",
    "import base64"
   ]
  },
  {
   "cell_type": "code",
   "execution_count": 38,
   "metadata": {
    "slideshow": {
     "slide_type": "skip"
    }
   },
   "outputs": [],
   "source": [
    "def embed_vid(outvid):\n",
    "    video = io.open(outvid, 'r+b').read()\n",
    "    encoded = base64.b64encode(video)\n",
    "    return HTML(data='''<video alt=\"test\" width=\"950\" height=\"500\" loop=\"true\" controls>\n",
    "                <source src=\"data:video/mp4;base64,{0}\" type=\"video/mp4\" loop=\"true\" />\n",
    "             </video>'''.format(encoded.decode('ascii')))"
   ]
  },
  {
   "cell_type": "markdown",
   "metadata": {
    "slideshow": {
     "slide_type": "slide"
    }
   },
   "source": [
    "# Simulating Extremes Events in Tropical Island Thunderstorms"
   ]
  },
  {
   "cell_type": "code",
   "execution_count": 4,
   "metadata": {
    "slideshow": {
     "slide_type": "notes"
    }
   },
   "outputs": [
    {
     "data": {
      "text/html": [
       "\n",
       "<style>\n",
       ".button {\n",
       "    background-color: #e7e7e7;\n",
       "    color: black; /* Green */\n",
       "    border: none;\n",
       "    padding: 5px;\n",
       "    text-align: center;\n",
       "    text-decoration: none;\n",
       "    display: inline-block;\n",
       "    font-size: 10px;\n",
       "    margin: 2px 2px;\n",
       "    cursor: pointer;\n",
       "}\n",
       ".button5 {border-radius: 50%;}\n",
       "</style>\n",
       "<script>\n",
       "  function code_toggle() {\n",
       "    if (code_shown){\n",
       "      $('div.input').hide('500');\n",
       "      $('#toggleButton').val('Show Code')\n",
       "    } else {\n",
       "      $('div.input').show('500');\n",
       "      $('#toggleButton').val('Hide Code')\n",
       "    }\n",
       "    code_shown = !code_shown\n",
       "  }\n",
       "\n",
       "  $( document ).ready(function(){\n",
       "    code_shown=false;\n",
       "    $('div.input').hide()\n",
       "  });\n",
       "</script>\n",
       "<form action=\"javascript:code_toggle()\"><input type=\"submit\" id=\"toggleButton\" value=\"Show Code\" class=\"button button5\"></form>\n",
       "\n"
      ],
      "text/plain": [
       "<IPython.core.display.HTML object>"
      ]
     },
     "execution_count": 4,
     "metadata": {},
     "output_type": "execute_result"
    }
   ],
   "source": [
    "HTML(showcode)"
   ]
  },
  {
   "cell_type": "markdown",
   "metadata": {
    "slideshow": {
     "slide_type": "fragment"
    }
   },
   "source": [
    "### Does Increasing the Model Resolution Improve the Representation of Rainfall Extremes?\n",
    "<figure>\n",
    "<img src=\"Topo.png\" alt=\"Study area\" style=\"height:700px;width:800px;\"/>\n",
    "<figcaption  style=\"text-align: right\">Study Area</figcaption>\n",
    "</figure>"
   ]
  },
  {
   "cell_type": "markdown",
   "metadata": {
    "slideshow": {
     "slide_type": "slide"
    }
   },
   "source": [
    "### How Important is the Diurnal Rainfall Cycle?\n",
    "\n",
    "\n",
    "\n",
    "<figure>\n",
    "<img src=\"Fig_002-2.png\" alt=\"Study area\"/>\n",
    "<figcaption  style=\"text-align: center\"></figcaption>\n",
    "</figure>"
   ]
  },
  {
   "cell_type": "markdown",
   "metadata": {
    "slideshow": {
     "slide_type": "subslide"
    }
   },
   "source": [
    "### Rainfall and Extreme Events over the Tiwi-Islands by Break and Bursts\n",
    "<figure>\n",
    "<img src=\"Fig_003.png\" alt=\"Study area\"/>\n",
    "<figcaption  style=\"text-align: center\"></figcaption>\n",
    "</figure>"
   ]
  },
  {
   "cell_type": "markdown",
   "metadata": {
    "slideshow": {
     "slide_type": "slide"
    }
   },
   "source": [
    "## Simulation of Hector Events (12/11 - 20/11/2006)\n",
    "<figure>\n",
    "<img src=\"Fig_005.png\" alt=\"Study area\"/>\n",
    "<figcaption  style=\"text-align: right\">Area Avg Rainfall</figcaption>\n",
    "</figure>"
   ]
  },
  {
   "cell_type": "code",
   "execution_count": 24,
   "metadata": {
    "slideshow": {
     "slide_type": "subslide"
    }
   },
   "outputs": [
    {
     "data": {
      "text/html": [
       "<figure>\n",
       "<video width=\"950\" height=\"500\" loop=\"true\" controls>\n",
       "  <source src='WeekOfHector-Ens-3.mp4' type=\"video/mp4\">\n",
       "</video>\n",
       " <figcaption  style=\"text-align: right\">Example UM 0.44km Simulation and CPOL</figcaption>\n",
       "</figure>"
      ],
      "text/plain": [
       "<IPython.core.display.HTML object>"
      ]
     },
     "metadata": {},
     "output_type": "display_data"
    }
   ],
   "source": [
    "%%HTML\n",
    "<figure>\n",
    "<video width=\"950\" height=\"500\" loop=\"true\" controls>\n",
    "  <source src='WeekOfHector-Ens-3.mp4' type=\"video/mp4\">\n",
    "</video>\n",
    " <figcaption  style=\"text-align: right\">Example UM 0.44km Simulation and CPOL</figcaption>\n",
    "</figure>"
   ]
  },
  {
   "cell_type": "markdown",
   "metadata": {
    "slideshow": {
     "slide_type": "slide"
    }
   },
   "source": [
    "### Maps of Simulated Rainfall\n",
    "<figure>\n",
    "<img src=\"Fig_010.png\" alt=\"Study area\"/>\n",
    "<figcaption  style=\"text-align: right\">Maps of Rainfall</figcaption>\n",
    "</figure>"
   ]
  },
  {
   "cell_type": "markdown",
   "metadata": {
    "slideshow": {
     "slide_type": "slide"
    }
   },
   "source": [
    "### The simulated Diurnal Cycle\n",
    "<figure>\n",
    "<img src=\"Fig_012.png\" alt=\"Study area\"/>\n",
    "<figcaption  style=\"text-align: right\">Time of Rainfall Maximum and Area Avg Diurnal Cycle</figcaption>\n",
    "</figure>"
   ]
  },
  {
   "cell_type": "code",
   "execution_count": 33,
   "metadata": {
    "slideshow": {
     "slide_type": "subslide"
    }
   },
   "outputs": [
    {
     "data": {
      "text/html": [
       "<figure>\n",
       "<video width=\"950\" height=\"500\" loop=\"true\" controls>\n",
       "  <source src='WeekOfHector-Diurnal-2.mp4' type=\"video/mp4\">\n",
       "</video>\n",
       " <figcaption  style=\"text-align: right\">Diurnal Cycle</figcaption>\n",
       "</figure>"
      ],
      "text/plain": [
       "<IPython.core.display.HTML object>"
      ]
     },
     "metadata": {},
     "output_type": "display_data"
    }
   ],
   "source": [
    "%%HTML\n",
    "<figure>\n",
    "<video width=\"950\" height=\"500\" loop=\"true\" controls>\n",
    "  <source src='WeekOfHector-Diurnal-2.mp4' type=\"video/mp4\">\n",
    "</video>\n",
    " <figcaption  style=\"text-align: right\">Diurnal Cycle</figcaption>\n",
    "</figure>"
   ]
  },
  {
   "cell_type": "markdown",
   "metadata": {
    "slideshow": {
     "slide_type": "slide"
    }
   },
   "source": [
    "### In Summary:\n",
    " * Storms are a little too early \n",
    " * Occure too central over Melville Island"
   ]
  },
  {
   "cell_type": "markdown",
   "metadata": {
    "slideshow": {
     "slide_type": "slide"
    }
   },
   "source": [
    "### Comparison of Extreme Events (by pixel)\n",
    "<figure>\n",
    "<img src=\"Fig_013.png\" alt=\"Study area\"/>\n",
    "<figcaption  style=\"text-align: right\">Occurrence of Extreme Events</figcaption>\n",
    "</figure>"
   ]
  },
  {
   "cell_type": "markdown",
   "metadata": {
    "slideshow": {
     "slide_type": "subslide"
    }
   },
   "source": [
    "### Distribution of Rainfall Percentiles\n",
    "<figure>\n",
    "<img src=\"Fig_015.png\" alt=\"Study area\"/>\n",
    "<figcaption  style=\"text-align: center\">Occurrence of Extreme Events</figcaption>\n",
    "</figure>"
   ]
  },
  {
   "cell_type": "markdown",
   "metadata": {
    "slideshow": {
     "slide_type": "slide"
    }
   },
   "source": [
    "## Storm-Track Analysis"
   ]
  },
  {
   "cell_type": "code",
   "execution_count": 34,
   "metadata": {
    "slideshow": {
     "slide_type": "fragment"
    }
   },
   "outputs": [
    {
     "data": {
      "text/html": [
       "<div>\n",
       "<style scoped>\n",
       "    .dataframe tbody tr th:only-of-type {\n",
       "        vertical-align: middle;\n",
       "    }\n",
       "\n",
       "    .dataframe tbody tr th {\n",
       "        vertical-align: top;\n",
       "    }\n",
       "\n",
       "    .dataframe thead th {\n",
       "        text-align: right;\n",
       "    }\n",
       "</style>\n",
       "<table border=\"1\" class=\"dataframe\">\n",
       "  <thead>\n",
       "    <tr style=\"text-align: right;\">\n",
       "      <th></th>\n",
       "      <th>UM 1.33km</th>\n",
       "      <th>UM 0.44km</th>\n",
       "      <th>CPOL</th>\n",
       "    </tr>\n",
       "  </thead>\n",
       "  <tbody>\n",
       "    <tr>\n",
       "      <th>Area</th>\n",
       "      <td>76.67</td>\n",
       "      <td>61.25</td>\n",
       "      <td>110.68</td>\n",
       "    </tr>\n",
       "    <tr>\n",
       "      <th>Duration</th>\n",
       "      <td>60.00</td>\n",
       "      <td>50.00</td>\n",
       "      <td>60.00</td>\n",
       "    </tr>\n",
       "    <tr>\n",
       "      <th>Avg-Rain</th>\n",
       "      <td>4.78</td>\n",
       "      <td>5.65</td>\n",
       "      <td>4.52</td>\n",
       "    </tr>\n",
       "    <tr>\n",
       "      <th>Max-Rain</th>\n",
       "      <td>6.90</td>\n",
       "      <td>8.56</td>\n",
       "      <td>6.79</td>\n",
       "    </tr>\n",
       "    <tr>\n",
       "      <th>Speed</th>\n",
       "      <td>10.03</td>\n",
       "      <td>12.71</td>\n",
       "      <td>12.67</td>\n",
       "    </tr>\n",
       "    <tr>\n",
       "      <th># Storms</th>\n",
       "      <td>73.00</td>\n",
       "      <td>50.00</td>\n",
       "      <td>42.00</td>\n",
       "    </tr>\n",
       "  </tbody>\n",
       "</table>\n",
       "</div>"
      ],
      "text/plain": [
       "          UM 1.33km  UM 0.44km    CPOL\n",
       "Area          76.67      61.25  110.68\n",
       "Duration      60.00      50.00   60.00\n",
       "Avg-Rain       4.78       5.65    4.52\n",
       "Max-Rain       6.90       8.56    6.79\n",
       "Speed         10.03      12.71   12.67\n",
       "# Storms      73.00      50.00   42.00"
      ]
     },
     "execution_count": 34,
     "metadata": {},
     "output_type": "execute_result"
    }
   ],
   "source": [
    "pd.read_pickle('medians.pkl').round(2)"
   ]
  },
  {
   "cell_type": "markdown",
   "metadata": {
    "slideshow": {
     "slide_type": "slide"
    }
   },
   "source": [
    "<figure>\n",
    "<img src=\"Fig_020.png\" alt=\"Study area\"/>\n",
    "<figcaption  style=\"text-align: right\"></figcaption>\n",
    "</figure>"
   ]
  },
  {
   "cell_type": "markdown",
   "metadata": {
    "slideshow": {
     "slide_type": "subslide"
    }
   },
   "source": [
    "<figure>\n",
    "<img src=\"Fig_017.png\" alt=\"Study area\"/>\n",
    "<figcaption  style=\"text-align: right\">Comparison Storm Area and Liftime</figcaption>\n",
    "</figure>"
   ]
  },
  {
   "cell_type": "markdown",
   "metadata": {
    "slideshow": {
     "slide_type": "slide"
    }
   },
   "source": [
    "<figure>\n",
    "<img src=\"Fig_018.png\" alt=\"Study area\"/>\n",
    "<figcaption  style=\"text-align: right\">The Most Intense Storm Tracks</figcaption>\n",
    "</figure>"
   ]
  },
  {
   "cell_type": "markdown",
   "metadata": {
    "slideshow": {
     "slide_type": "fragment"
    }
   },
   "source": [
    "<figure>\n",
    "<img src=\"Fig_021.png\" alt=\"Study area\"/>\n",
    "<figcaption  style=\"text-align: right\">Relative Life Cycle of the Storms</figcaption>\n",
    "</figure>"
   ]
  },
  {
   "cell_type": "markdown",
   "metadata": {
    "slideshow": {
     "slide_type": "slide"
    }
   },
   "source": [
    "<figure>\n",
    "<img src=\"Fig_019.png\" alt=\"Study area\"/>\n",
    "<figcaption  style=\"text-align: right\">Comparison Storm Properties by Rainfall Quintiles</figcaption>\n",
    "</figure>"
   ]
  },
  {
   "cell_type": "markdown",
   "metadata": {
    "slideshow": {
     "slide_type": "slide"
    }
   },
   "source": [
    "### Investigation of Cold-Pools\n"
   ]
  },
  {
   "cell_type": "code",
   "execution_count": 32,
   "metadata": {
    "slideshow": {
     "slide_type": "fragment"
    }
   },
   "outputs": [
    {
     "data": {
      "text/html": [
       "<figure>\n",
       "<video width=\"950\" height=\"500\" loop=\"true\" controls>\n",
       "  <source src='ColdPool-Ens-1.mp4' type=\"video/mp4\">\n",
       "</video>\n",
       " <figcaption  style=\"text-align: right\">Tracking with Density Potential Temperature Field Pertubation</figcaption>\n",
       "</figure>"
      ],
      "text/plain": [
       "<IPython.core.display.HTML object>"
      ]
     },
     "metadata": {},
     "output_type": "display_data"
    }
   ],
   "source": [
    "%%HTML\n",
    "<figure>\n",
    "<video width=\"950\" height=\"500\" loop=\"true\" controls>\n",
    "  <source src='ColdPool-Ens-1.mp4' type=\"video/mp4\">\n",
    "</video>\n",
    " <figcaption  style=\"text-align: right\">Tracking with Density Potential Temperature Field Pertubation</figcaption>\n",
    "</figure>"
   ]
  },
  {
   "cell_type": "markdown",
   "metadata": {
    "slideshow": {
     "slide_type": "slide"
    }
   },
   "source": [
    "<figure>\n",
    "<img src=\"Fig_038.png\" alt=\"Study area\"/>\n",
    "<figcaption  style=\"text-align: right\">Comparison Cold-Pool Properties and Mass Flux by Rainfall Quintiles</figcaption>\n",
    "</figure>"
   ]
  },
  {
   "cell_type": "markdown",
   "metadata": {
    "slideshow": {
     "slide_type": "slide"
    }
   },
   "source": [
    "<figure>\n",
    "<img src=\"Fig_027.png\" alt=\"Study area\"/>\n",
    "<figcaption  style=\"text-align: right\">Some atmospheric variables</figcaption>\n",
    "</figure>"
   ]
  },
  {
   "cell_type": "markdown",
   "metadata": {
    "slideshow": {
     "slide_type": "slide"
    }
   },
   "source": [
    "### PBL Properties\n",
    "\n",
    "|Types:| 1 | 2 | 3 | 4 | 5 | 6 | 7 |\n",
    "|---|---|---|---|---|---|---|---| \n",
    "| |Stable Layer | As 1 + Sc | Well Mixed Layer | Unst. + DSc | As 4 + DSc | Cu capped PBL | Shear dom. unst.|\n",
    "\n",
    "<figure>\n",
    "<img src=\"Fig_040.png\" alt=\"Study area\"/>\n",
    "<figcaption  style=\"text-align: right\">Boundary Layer Properties for the 5th Quintile</figcaption>\n",
    "</figure>"
   ]
  }
 ],
 "metadata": {
  "celltoolbar": "Slideshow",
  "kernelspec": {
   "display_name": "Python 3",
   "language": "python",
   "name": "python3"
  },
  "language_info": {
   "codemirror_mode": {
    "name": "ipython",
    "version": 3
   },
   "file_extension": ".py",
   "mimetype": "text/x-python",
   "name": "python",
   "nbconvert_exporter": "python",
   "pygments_lexer": "ipython3",
   "version": "3.6.5"
  }
 },
 "nbformat": 4,
 "nbformat_minor": 2
}
